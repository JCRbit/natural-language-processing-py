{
  "cells": [
    {
      "cell_type": "markdown",
      "metadata": {
        "id": "Gsu-z-9qQeAF"
      },
      "source": [
        "# 3. Modelling"
      ]
    },
    {
      "cell_type": "markdown",
      "metadata": {
        "id": "kM5v97h7Qdzm"
      },
      "source": [
        "## 3.1. Load data"
      ]
    },
    {
      "cell_type": "code",
      "execution_count": null,
      "metadata": {
        "colab": {
          "base_uri": "https://localhost:8080/"
        },
        "id": "GhlMr7iULakv",
        "outputId": "0088a80e-d719-44d3-e18b-a6c1db876f3c"
      },
      "outputs": [
        {
          "output_type": "stream",
          "name": "stdout",
          "text": [
            "Mounted at /content/drive\n"
          ]
        }
      ],
      "source": [
        "from google.colab import drive\n",
        "drive.mount('/content/drive')"
      ]
    },
    {
      "cell_type": "code",
      "execution_count": null,
      "metadata": {
        "id": "itfN56aaLhCl"
      },
      "outputs": [],
      "source": [
        "import pandas as pd\n",
        "\n",
        "base_path = '/content/drive/MyDrive/nlp/amazon'\n",
        "reviews_train_df = pd.read_csv(base_path + '/data/preproc_pet_supplies_train.csv')\n",
        "reviews_test_df = pd.read_csv(base_path + '/data/preproc_pet_supplies_test.csv')"
      ]
    },
    {
      "cell_type": "code",
      "execution_count": null,
      "metadata": {
        "id": "EeR6Lt3uzBzH"
      },
      "outputs": [],
      "source": [
        "X_train = reviews_train_df['preprocReviewText'].values\n",
        "y_train = reviews_train_df['sentiment'].values\n",
        "\n",
        "X_test = reviews_test_df['preprocReviewText'].values\n",
        "y_test = reviews_test_df['sentiment'].values"
      ]
    },
    {
      "cell_type": "markdown",
      "metadata": {
        "id": "aWJJd0vBxDFd"
      },
      "source": [
        "## 3.2. Model training"
      ]
    },
    {
      "cell_type": "markdown",
      "metadata": {
        "id": "uSS4laPM4vn2"
      },
      "source": [
        "### 3.2.1. XGBoost Classifier"
      ]
    },
    {
      "cell_type": "code",
      "execution_count": null,
      "metadata": {
        "id": "unAFyaZE0R1z"
      },
      "outputs": [],
      "source": [
        "from sklearn.feature_extraction.text import CountVectorizer\n",
        "\n",
        "# Feature extraction\n",
        "vectorizer = CountVectorizer()\n",
        "X_train_vec = vectorizer.fit_transform(X_train)\n",
        "X_test_vec = vectorizer.transform(X_test)"
      ]
    },
    {
      "cell_type": "code",
      "execution_count": null,
      "metadata": {
        "id": "MJQaAWj0xiu7"
      },
      "outputs": [],
      "source": [
        "import sklearn.preprocessing as pr\n",
        "\n",
        "X_train_vec = pr.normalize(X_train_vec, axis=1)\n",
        "X_test_vec = pr.normalize(X_test_vec, axis=1)"
      ]
    },
    {
      "cell_type": "code",
      "execution_count": null,
      "metadata": {
        "colab": {
          "base_uri": "https://localhost:8080/",
          "height": 967
        },
        "id": "ukbHqBgLyccC",
        "outputId": "a82d7831-7c53-4e55-cb8a-753b137a7667"
      },
      "outputs": [
        {
          "name": "stdout",
          "output_type": "stream",
          "text": [
            "Fitting 5 folds for each of 9 candidates, totalling 45 fits\n",
            "[CV] END .....................max_depth=10, n_estimators=100; total time=  17.2s\n",
            "[CV] END .....................max_depth=10, n_estimators=100; total time=  18.9s\n",
            "[CV] END .....................max_depth=10, n_estimators=100; total time=  16.8s\n",
            "[CV] END .....................max_depth=10, n_estimators=100; total time=  18.9s\n",
            "[CV] END .....................max_depth=10, n_estimators=100; total time=  27.6s\n",
            "[CV] END .....................max_depth=10, n_estimators=200; total time=  46.7s\n",
            "[CV] END .....................max_depth=10, n_estimators=200; total time=  32.0s\n",
            "[CV] END .....................max_depth=10, n_estimators=200; total time=  32.0s\n",
            "[CV] END .....................max_depth=10, n_estimators=200; total time=  42.5s\n",
            "[CV] END .....................max_depth=10, n_estimators=200; total time=  40.3s\n",
            "[CV] END .....................max_depth=10, n_estimators=500; total time= 2.0min\n",
            "[CV] END .....................max_depth=10, n_estimators=500; total time= 1.7min\n",
            "[CV] END .....................max_depth=10, n_estimators=500; total time= 2.0min\n",
            "[CV] END .....................max_depth=10, n_estimators=500; total time= 1.6min\n",
            "[CV] END .....................max_depth=10, n_estimators=500; total time= 1.5min\n",
            "[CV] END .....................max_depth=15, n_estimators=100; total time=  26.4s\n",
            "[CV] END .....................max_depth=15, n_estimators=100; total time=  24.7s\n",
            "[CV] END .....................max_depth=15, n_estimators=100; total time=  30.0s\n",
            "[CV] END .....................max_depth=15, n_estimators=100; total time=  36.0s\n",
            "[CV] END .....................max_depth=15, n_estimators=100; total time=  37.3s\n",
            "[CV] END .....................max_depth=15, n_estimators=200; total time=  46.8s\n",
            "[CV] END .....................max_depth=15, n_estimators=200; total time=  51.4s\n",
            "[CV] END .....................max_depth=15, n_estimators=200; total time=  54.4s\n",
            "[CV] END .....................max_depth=15, n_estimators=200; total time=  58.2s\n",
            "[CV] END .....................max_depth=15, n_estimators=200; total time= 1.1min\n",
            "[CV] END .....................max_depth=15, n_estimators=500; total time= 2.9min\n",
            "[CV] END .....................max_depth=15, n_estimators=500; total time= 2.1min\n",
            "[CV] END .....................max_depth=15, n_estimators=500; total time= 1.8min\n",
            "[CV] END .....................max_depth=15, n_estimators=500; total time= 1.8min\n",
            "[CV] END .....................max_depth=15, n_estimators=500; total time= 2.0min\n",
            "[CV] END .....................max_depth=20, n_estimators=100; total time=  29.9s\n",
            "[CV] END .....................max_depth=20, n_estimators=100; total time=  29.8s\n",
            "[CV] END .....................max_depth=20, n_estimators=100; total time=  41.1s\n",
            "[CV] END .....................max_depth=20, n_estimators=100; total time=  39.9s\n",
            "[CV] END .....................max_depth=20, n_estimators=100; total time=  37.1s\n",
            "[CV] END .....................max_depth=20, n_estimators=200; total time= 1.0min\n",
            "[CV] END .....................max_depth=20, n_estimators=200; total time=  55.4s\n",
            "[CV] END .....................max_depth=20, n_estimators=200; total time=  56.5s\n",
            "[CV] END .....................max_depth=20, n_estimators=200; total time= 1.2min\n",
            "[CV] END .....................max_depth=20, n_estimators=200; total time= 1.1min\n",
            "[CV] END .....................max_depth=20, n_estimators=500; total time= 2.5min\n",
            "[CV] END .....................max_depth=20, n_estimators=500; total time= 2.5min\n",
            "[CV] END .....................max_depth=20, n_estimators=500; total time= 2.7min\n",
            "[CV] END .....................max_depth=20, n_estimators=500; total time= 2.3min\n",
            "[CV] END .....................max_depth=20, n_estimators=500; total time= 2.3min\n"
          ]
        },
        {
          "data": {
            "text/html": [
              "<style>#sk-container-id-4 {color: black;background-color: white;}#sk-container-id-4 pre{padding: 0;}#sk-container-id-4 div.sk-toggleable {background-color: white;}#sk-container-id-4 label.sk-toggleable__label {cursor: pointer;display: block;width: 100%;margin-bottom: 0;padding: 0.3em;box-sizing: border-box;text-align: center;}#sk-container-id-4 label.sk-toggleable__label-arrow:before {content: \"▸\";float: left;margin-right: 0.25em;color: #696969;}#sk-container-id-4 label.sk-toggleable__label-arrow:hover:before {color: black;}#sk-container-id-4 div.sk-estimator:hover label.sk-toggleable__label-arrow:before {color: black;}#sk-container-id-4 div.sk-toggleable__content {max-height: 0;max-width: 0;overflow: hidden;text-align: left;background-color: #f0f8ff;}#sk-container-id-4 div.sk-toggleable__content pre {margin: 0.2em;color: black;border-radius: 0.25em;background-color: #f0f8ff;}#sk-container-id-4 input.sk-toggleable__control:checked~div.sk-toggleable__content {max-height: 200px;max-width: 100%;overflow: auto;}#sk-container-id-4 input.sk-toggleable__control:checked~label.sk-toggleable__label-arrow:before {content: \"▾\";}#sk-container-id-4 div.sk-estimator input.sk-toggleable__control:checked~label.sk-toggleable__label {background-color: #d4ebff;}#sk-container-id-4 div.sk-label input.sk-toggleable__control:checked~label.sk-toggleable__label {background-color: #d4ebff;}#sk-container-id-4 input.sk-hidden--visually {border: 0;clip: rect(1px 1px 1px 1px);clip: rect(1px, 1px, 1px, 1px);height: 1px;margin: -1px;overflow: hidden;padding: 0;position: absolute;width: 1px;}#sk-container-id-4 div.sk-estimator {font-family: monospace;background-color: #f0f8ff;border: 1px dotted black;border-radius: 0.25em;box-sizing: border-box;margin-bottom: 0.5em;}#sk-container-id-4 div.sk-estimator:hover {background-color: #d4ebff;}#sk-container-id-4 div.sk-parallel-item::after {content: \"\";width: 100%;border-bottom: 1px solid gray;flex-grow: 1;}#sk-container-id-4 div.sk-label:hover label.sk-toggleable__label {background-color: #d4ebff;}#sk-container-id-4 div.sk-serial::before {content: \"\";position: absolute;border-left: 1px solid gray;box-sizing: border-box;top: 0;bottom: 0;left: 50%;z-index: 0;}#sk-container-id-4 div.sk-serial {display: flex;flex-direction: column;align-items: center;background-color: white;padding-right: 0.2em;padding-left: 0.2em;position: relative;}#sk-container-id-4 div.sk-item {position: relative;z-index: 1;}#sk-container-id-4 div.sk-parallel {display: flex;align-items: stretch;justify-content: center;background-color: white;position: relative;}#sk-container-id-4 div.sk-item::before, #sk-container-id-4 div.sk-parallel-item::before {content: \"\";position: absolute;border-left: 1px solid gray;box-sizing: border-box;top: 0;bottom: 0;left: 50%;z-index: -1;}#sk-container-id-4 div.sk-parallel-item {display: flex;flex-direction: column;z-index: 1;position: relative;background-color: white;}#sk-container-id-4 div.sk-parallel-item:first-child::after {align-self: flex-end;width: 50%;}#sk-container-id-4 div.sk-parallel-item:last-child::after {align-self: flex-start;width: 50%;}#sk-container-id-4 div.sk-parallel-item:only-child::after {width: 0;}#sk-container-id-4 div.sk-dashed-wrapped {border: 1px dashed gray;margin: 0 0.4em 0.5em 0.4em;box-sizing: border-box;padding-bottom: 0.4em;background-color: white;}#sk-container-id-4 div.sk-label label {font-family: monospace;font-weight: bold;display: inline-block;line-height: 1.2em;}#sk-container-id-4 div.sk-label-container {text-align: center;}#sk-container-id-4 div.sk-container {/* jupyter's `normalize.less` sets `[hidden] { display: none; }` but bootstrap.min.css set `[hidden] { display: none !important; }` so we also need the `!important` here to be able to override the default hidden behavior on the sphinx rendered scikit-learn.org. See: https://github.com/scikit-learn/scikit-learn/issues/21755 */display: inline-block !important;position: relative;}#sk-container-id-4 div.sk-text-repr-fallback {display: none;}</style><div id=\"sk-container-id-4\" class=\"sk-top-container\"><div class=\"sk-text-repr-fallback\"><pre>GridSearchCV(cv=5,\n",
              "             estimator=XGBClassifier(base_score=None, booster=None,\n",
              "                                     callbacks=None, colsample_bylevel=None,\n",
              "                                     colsample_bynode=None,\n",
              "                                     colsample_bytree=None,\n",
              "                                     early_stopping_rounds=None,\n",
              "                                     enable_categorical=False, eval_metric=None,\n",
              "                                     feature_types=None, gamma=None,\n",
              "                                     gpu_id=None, grow_policy=None,\n",
              "                                     importance_type=None,\n",
              "                                     interaction_constraints=None,\n",
              "                                     learning_rate=None, max_bin=None,\n",
              "                                     max_cat_threshold=None,\n",
              "                                     max_cat_to_onehot=None,\n",
              "                                     max_delta_step=None, max_depth=None,\n",
              "                                     max_leaves=None, min_child_weight=None,\n",
              "                                     missing=nan, monotone_constraints=None,\n",
              "                                     n_estimators=100, n_jobs=None,\n",
              "                                     num_parallel_tree=None, predictor=None,\n",
              "                                     random_state=0, ...),\n",
              "             param_grid={&#x27;max_depth&#x27;: [10, 15, 20],\n",
              "                         &#x27;n_estimators&#x27;: [100, 200, 500]},\n",
              "             verbose=2)</pre><b>In a Jupyter environment, please rerun this cell to show the HTML representation or trust the notebook. <br />On GitHub, the HTML representation is unable to render, please try loading this page with nbviewer.org.</b></div><div class=\"sk-container\" hidden><div class=\"sk-item sk-dashed-wrapped\"><div class=\"sk-label-container\"><div class=\"sk-label sk-toggleable\"><input class=\"sk-toggleable__control sk-hidden--visually\" id=\"sk-estimator-id-8\" type=\"checkbox\" ><label for=\"sk-estimator-id-8\" class=\"sk-toggleable__label sk-toggleable__label-arrow\">GridSearchCV</label><div class=\"sk-toggleable__content\"><pre>GridSearchCV(cv=5,\n",
              "             estimator=XGBClassifier(base_score=None, booster=None,\n",
              "                                     callbacks=None, colsample_bylevel=None,\n",
              "                                     colsample_bynode=None,\n",
              "                                     colsample_bytree=None,\n",
              "                                     early_stopping_rounds=None,\n",
              "                                     enable_categorical=False, eval_metric=None,\n",
              "                                     feature_types=None, gamma=None,\n",
              "                                     gpu_id=None, grow_policy=None,\n",
              "                                     importance_type=None,\n",
              "                                     interaction_constraints=None,\n",
              "                                     learning_rate=None, max_bin=None,\n",
              "                                     max_cat_threshold=None,\n",
              "                                     max_cat_to_onehot=None,\n",
              "                                     max_delta_step=None, max_depth=None,\n",
              "                                     max_leaves=None, min_child_weight=None,\n",
              "                                     missing=nan, monotone_constraints=None,\n",
              "                                     n_estimators=100, n_jobs=None,\n",
              "                                     num_parallel_tree=None, predictor=None,\n",
              "                                     random_state=0, ...),\n",
              "             param_grid={&#x27;max_depth&#x27;: [10, 15, 20],\n",
              "                         &#x27;n_estimators&#x27;: [100, 200, 500]},\n",
              "             verbose=2)</pre></div></div></div><div class=\"sk-parallel\"><div class=\"sk-parallel-item\"><div class=\"sk-item\"><div class=\"sk-label-container\"><div class=\"sk-label sk-toggleable\"><input class=\"sk-toggleable__control sk-hidden--visually\" id=\"sk-estimator-id-9\" type=\"checkbox\" ><label for=\"sk-estimator-id-9\" class=\"sk-toggleable__label sk-toggleable__label-arrow\">estimator: XGBClassifier</label><div class=\"sk-toggleable__content\"><pre>XGBClassifier(base_score=None, booster=None, callbacks=None,\n",
              "              colsample_bylevel=None, colsample_bynode=None,\n",
              "              colsample_bytree=None, early_stopping_rounds=None,\n",
              "              enable_categorical=False, eval_metric=None, feature_types=None,\n",
              "              gamma=None, gpu_id=None, grow_policy=None, importance_type=None,\n",
              "              interaction_constraints=None, learning_rate=None, max_bin=None,\n",
              "              max_cat_threshold=None, max_cat_to_onehot=None,\n",
              "              max_delta_step=None, max_depth=None, max_leaves=None,\n",
              "              min_child_weight=None, missing=nan, monotone_constraints=None,\n",
              "              n_estimators=100, n_jobs=None, num_parallel_tree=None,\n",
              "              predictor=None, random_state=0, ...)</pre></div></div></div><div class=\"sk-serial\"><div class=\"sk-item\"><div class=\"sk-estimator sk-toggleable\"><input class=\"sk-toggleable__control sk-hidden--visually\" id=\"sk-estimator-id-10\" type=\"checkbox\" ><label for=\"sk-estimator-id-10\" class=\"sk-toggleable__label sk-toggleable__label-arrow\">XGBClassifier</label><div class=\"sk-toggleable__content\"><pre>XGBClassifier(base_score=None, booster=None, callbacks=None,\n",
              "              colsample_bylevel=None, colsample_bynode=None,\n",
              "              colsample_bytree=None, early_stopping_rounds=None,\n",
              "              enable_categorical=False, eval_metric=None, feature_types=None,\n",
              "              gamma=None, gpu_id=None, grow_policy=None, importance_type=None,\n",
              "              interaction_constraints=None, learning_rate=None, max_bin=None,\n",
              "              max_cat_threshold=None, max_cat_to_onehot=None,\n",
              "              max_delta_step=None, max_depth=None, max_leaves=None,\n",
              "              min_child_weight=None, missing=nan, monotone_constraints=None,\n",
              "              n_estimators=100, n_jobs=None, num_parallel_tree=None,\n",
              "              predictor=None, random_state=0, ...)</pre></div></div></div></div></div></div></div></div></div></div>"
            ],
            "text/plain": [
              "GridSearchCV(cv=5,\n",
              "             estimator=XGBClassifier(base_score=None, booster=None,\n",
              "                                     callbacks=None, colsample_bylevel=None,\n",
              "                                     colsample_bynode=None,\n",
              "                                     colsample_bytree=None,\n",
              "                                     early_stopping_rounds=None,\n",
              "                                     enable_categorical=False, eval_metric=None,\n",
              "                                     feature_types=None, gamma=None,\n",
              "                                     gpu_id=None, grow_policy=None,\n",
              "                                     importance_type=None,\n",
              "                                     interaction_constraints=None,\n",
              "                                     learning_rate=None, max_bin=None,\n",
              "                                     max_cat_threshold=None,\n",
              "                                     max_cat_to_onehot=None,\n",
              "                                     max_delta_step=None, max_depth=None,\n",
              "                                     max_leaves=None, min_child_weight=None,\n",
              "                                     missing=nan, monotone_constraints=None,\n",
              "                                     n_estimators=100, n_jobs=None,\n",
              "                                     num_parallel_tree=None, predictor=None,\n",
              "                                     random_state=0, ...),\n",
              "             param_grid={'max_depth': [10, 15, 20],\n",
              "                         'n_estimators': [100, 200, 500]},\n",
              "             verbose=2)"
            ]
          },
          "execution_count": 26,
          "metadata": {},
          "output_type": "execute_result"
        }
      ],
      "source": [
        "from xgboost import XGBClassifier\n",
        "from sklearn.model_selection import GridSearchCV\n",
        "\n",
        "max_depth = [10, 15, 20]\n",
        "n_estimators = [100, 200, 500]\n",
        "#learning_rate = [1e-3, 1e-2, 1e-1]\n",
        "\n",
        "param_grid_xgb = {\"max_depth\": max_depth,\n",
        "                  \"n_estimators\": n_estimators,\n",
        "                  #\"learning_rate\": learning_rate\n",
        "                  }\n",
        "\n",
        "grid_xgb = GridSearchCV(XGBClassifier(random_state=0), param_grid=param_grid_xgb, cv=5, verbose=2)\n",
        "grid_xgb.fit(X_train_vec, y_train)"
      ]
    },
    {
      "cell_type": "code",
      "execution_count": null,
      "metadata": {
        "colab": {
          "base_uri": "https://localhost:8080/"
        },
        "id": "BQrlUWda1kGX",
        "outputId": "9d91dac2-887e-4834-9fbf-986f30747c9b"
      },
      "outputs": [
        {
          "name": "stdout",
          "output_type": "stream",
          "text": [
            "Best parameters: {'max_depth': 15, 'n_estimators': 200}\n",
            "Best mean cross-validation score: 0.8462\n"
          ]
        }
      ],
      "source": [
        "# Best parameters\n",
        "best_params_xgb = grid_xgb.best_params_\n",
        "best_score_xgb = grid_xgb.best_score_\n",
        "\n",
        "print(f\"Best parameters: {best_params_xgb}\")\n",
        "print(f\"Best mean cross-validation score: {best_score_xgb:.4f}\")"
      ]
    },
    {
      "cell_type": "code",
      "execution_count": null,
      "metadata": {
        "colab": {
          "base_uri": "https://localhost:8080/"
        },
        "id": "gRS47HpM1p-w",
        "outputId": "e405483c-b147-46a9-bfdd-8f6a6c58732a"
      },
      "outputs": [
        {
          "name": "stdout",
          "output_type": "stream",
          "text": [
            "Train accuracy: 0.8886\n",
            "Test accuracy: 0.8312\n"
          ]
        }
      ],
      "source": [
        "# Train the model\n",
        "xgb_model = XGBClassifier(random_state=0,\n",
        "                          learning_rate=0.1,\n",
        "                          max_depth=7,\n",
        "                          n_estimators=150).fit(X_train_vec, y_train)\n",
        "\n",
        "print(f\"Train accuracy: {xgb_model.score(X_train_vec, y_train):.4f}\")\n",
        "print(f\"Test accuracy: {xgb_model.score(X_test_vec, y_test):.4f}\")"
      ]
    },
    {
      "cell_type": "code",
      "execution_count": null,
      "metadata": {
        "id": "caO_z13xa0uV"
      },
      "outputs": [],
      "source": [
        "# Model prediction on testing set\n",
        "yhat_xgb = xgb_model.predict(X_test_vec)"
      ]
    },
    {
      "cell_type": "markdown",
      "metadata": {
        "id": "lDOPqGuZ44go"
      },
      "source": [
        "### 3.2.2. LSTM Network"
      ]
    },
    {
      "cell_type": "code",
      "execution_count": null,
      "metadata": {
        "id": "k-b-iQh1OXVL"
      },
      "outputs": [],
      "source": [
        "reviews = [review for review in reviews_train_df['preprocReviewText']]\n",
        "vocabulary_size = len(set(' '.join(reviews).split()))"
      ]
    },
    {
      "cell_type": "code",
      "execution_count": null,
      "metadata": {
        "colab": {
          "base_uri": "https://localhost:8080/"
        },
        "id": "PTKVph_DA_x3",
        "outputId": "d7721b90-97e5-4f7f-bf49-d6a3e688fdd1"
      },
      "outputs": [
        {
          "output_type": "execute_result",
          "data": {
            "text/plain": [
              "count    16226.000000\n",
              "mean        22.874214\n",
              "std         31.641895\n",
              "min          1.000000\n",
              "25%          6.000000\n",
              "50%         14.000000\n",
              "75%         28.000000\n",
              "max       1234.000000\n",
              "Name: preprocReviewText, dtype: float64"
            ]
          },
          "metadata": {},
          "execution_count": 7
        }
      ],
      "source": [
        "words = reviews_train_df['preprocReviewText'].map(lambda s: len(s.split()))\n",
        "max_words = int(words.mean() + words.std())\n",
        "words.describe()"
      ]
    },
    {
      "cell_type": "code",
      "execution_count": null,
      "metadata": {
        "id": "pnbuRjEnWMof"
      },
      "outputs": [],
      "source": [
        "from tensorflow import keras\n",
        "from keras.preprocessing.text import Tokenizer\n",
        "from keras.utils import pad_sequences\n",
        "from sklearn.model_selection import train_test_split\n",
        "\n",
        "tokenizer = Tokenizer(num_words=vocabulary_size)\n",
        "tokenizer.fit_on_texts(X_train)\n",
        "\n",
        "# Feature extraction\n",
        "X_train_seq = tokenizer.texts_to_sequences(X_train)\n",
        "X_test_seq = tokenizer.texts_to_sequences(X_test)\n",
        "\n",
        "X_train_seq = pad_sequences(X_train_seq, maxlen=max_words)\n",
        "X_test_seq = pad_sequences(X_test_seq, maxlen=max_words)"
      ]
    },
    {
      "cell_type": "code",
      "execution_count": null,
      "metadata": {
        "colab": {
          "base_uri": "https://localhost:8080/"
        },
        "id": "VYcuIrq759B-",
        "outputId": "1bfd22e4-9b12-4d7d-cdff-331c6066a489"
      },
      "outputs": [
        {
          "output_type": "stream",
          "name": "stdout",
          "text": [
            "Model: \"sequential\"\n",
            "_________________________________________________________________\n",
            " Layer (type)                Output Shape              Param #   \n",
            "=================================================================\n",
            " embedding (Embedding)       (None, 54, 300)           4723500   \n",
            "                                                                 \n",
            " lstm (LSTM)                 (None, 32)                42624     \n",
            "                                                                 \n",
            " dropout (Dropout)           (None, 32)                0         \n",
            "                                                                 \n",
            " dense (Dense)               (None, 8)                 264       \n",
            "                                                                 \n",
            " dropout_1 (Dropout)         (None, 8)                 0         \n",
            "                                                                 \n",
            " dense_1 (Dense)             (None, 1)                 9         \n",
            "                                                                 \n",
            "=================================================================\n",
            "Total params: 4766397 (18.18 MB)\n",
            "Trainable params: 4766397 (18.18 MB)\n",
            "Non-trainable params: 0 (0.00 Byte)\n",
            "_________________________________________________________________\n"
          ]
        }
      ],
      "source": [
        "from keras.models import Sequential\n",
        "from keras.layers import Embedding, LSTM, Dense, Dropout, LeakyReLU\n",
        "\n",
        "embedding_size = 300\n",
        "lstm_model = Sequential()\n",
        "lstm_model.add(Embedding(vocabulary_size, embedding_size, input_length=max_words))\n",
        "lstm_model.add(LSTM(32))\n",
        "lstm_model.add(Dropout(0.5))\n",
        "lstm_model.add(Dense(8, activation=LeakyReLU(alpha=0.05), kernel_regularizer='l1'))\n",
        "lstm_model.add(Dropout(0.5))\n",
        "lstm_model.add(Dense(1, activation='sigmoid'))\n",
        "\n",
        "lstm_model.summary()"
      ]
    },
    {
      "cell_type": "code",
      "execution_count": null,
      "metadata": {
        "colab": {
          "base_uri": "https://localhost:8080/"
        },
        "id": "UkL3M-kC5_gd",
        "outputId": "af122f0b-410b-4f0f-b89c-efe2a5e26123"
      },
      "outputs": [
        {
          "name": "stdout",
          "output_type": "stream",
          "text": [
            "Epoch 1/10\n",
            "216/216 [==============================] - 6s 15ms/step - loss: 1.1371 - accuracy: 0.5497 - val_loss: 1.1025 - val_accuracy: 0.6668\n",
            "Epoch 2/10\n",
            "216/216 [==============================] - 2s 9ms/step - loss: 1.0670 - accuracy: 0.6250 - val_loss: 1.0168 - val_accuracy: 0.7375\n",
            "Epoch 3/10\n",
            "216/216 [==============================] - 2s 8ms/step - loss: 0.9551 - accuracy: 0.7176 - val_loss: 0.8639 - val_accuracy: 0.7970\n",
            "Epoch 4/10\n",
            "216/216 [==============================] - 2s 9ms/step - loss: 0.8331 - accuracy: 0.7906 - val_loss: 0.7632 - val_accuracy: 0.8242\n",
            "Epoch 5/10\n",
            "216/216 [==============================] - 2s 8ms/step - loss: 0.7475 - accuracy: 0.8284 - val_loss: 0.6940 - val_accuracy: 0.8463\n",
            "Epoch 6/10\n",
            "216/216 [==============================] - 2s 8ms/step - loss: 0.6851 - accuracy: 0.8485 - val_loss: 0.6507 - val_accuracy: 0.8426\n",
            "Epoch 7/10\n",
            "216/216 [==============================] - 2s 10ms/step - loss: 0.6350 - accuracy: 0.8627 - val_loss: 0.6113 - val_accuracy: 0.8480\n",
            "Epoch 8/10\n",
            "216/216 [==============================] - 2s 12ms/step - loss: 0.5878 - accuracy: 0.8746 - val_loss: 0.5852 - val_accuracy: 0.8533\n",
            "Epoch 9/10\n",
            "216/216 [==============================] - 2s 10ms/step - loss: 0.5486 - accuracy: 0.8841 - val_loss: 0.5650 - val_accuracy: 0.8480\n",
            "Epoch 10/10\n",
            "216/216 [==============================] - 2s 9ms/step - loss: 0.5133 - accuracy: 0.8854 - val_loss: 0.5443 - val_accuracy: 0.8455\n"
          ]
        },
        {
          "data": {
            "text/plain": [
              "<keras.callbacks.History at 0x7f19f9a7d7b0>"
            ]
          },
          "execution_count": 77,
          "metadata": {},
          "output_type": "execute_result"
        }
      ],
      "source": [
        "from keras.optimizers import Adam\n",
        "from keras.callbacks import EarlyStopping, History\n",
        "\n",
        "# Compile the model\n",
        "lstm_model.compile(loss='binary_crossentropy',\n",
        "                   optimizer=Adam(learning_rate=1e-4),\n",
        "                   metrics=['accuracy'])\n",
        "\n",
        "# Set history and early-stopping callbacks\n",
        "history = History()\n",
        "earlystopping = EarlyStopping(monitor='val_loss',\n",
        "                              patience=3,\n",
        "                              verbose=0,\n",
        "                              restore_best_weights=True,\n",
        "                              mode='auto')\n",
        "\n",
        "# Train the model\n",
        "lstm_model.fit(X_train_seq,\n",
        "               y_train,\n",
        "               batch_size=64,\n",
        "               epochs=10,\n",
        "               validation_split=0.15,\n",
        "               callbacks=[history, earlystopping])"
      ]
    },
    {
      "cell_type": "code",
      "execution_count": null,
      "metadata": {
        "id": "zOWFo5d9sHuf"
      },
      "outputs": [],
      "source": [
        "from matplotlib import pyplot as plt\n",
        "\n",
        "# Plot training-and-validation loss and accuracy metrics\n",
        "def history_loss_accuracy(history):\n",
        "    plt.figure()\n",
        "    plt.plot(history.history[\"loss\"], label=\"train_loss\")\n",
        "    plt.plot(history.history[\"val_loss\"], label=\"val_loss\")\n",
        "    plt.plot(history.history[\"accuracy\"], label=\"train_acc\")\n",
        "    plt.plot(history.history[\"val_accuracy\"], label=\"val_acc\")\n",
        "    plt.title(\"Training vs Validation Loss and Accuracy\")\n",
        "    plt.xlabel(\"Epoch #\")\n",
        "    plt.ylabel(\"Loss/Accuracy\")\n",
        "    plt.legend()\n",
        "    plt.show()"
      ]
    },
    {
      "cell_type": "code",
      "execution_count": null,
      "metadata": {
        "colab": {
          "base_uri": "https://localhost:8080/",
          "height": 472
        },
        "id": "3wSQJ5zh6E38",
        "outputId": "90c264a7-e08c-44b8-9041-a45598612724"
      },
      "outputs": [
        {
          "data": {
            "image/png": "[encoded data removed]",
            "text/plain": [
              "<Figure size 640x480 with 1 Axes>"
            ]
          },
          "metadata": {},
          "output_type": "display_data"
        }
      ],
      "source": [
        "history_loss_accuracy(history)"
      ]
    },
    {
      "cell_type": "code",
      "execution_count": null,
      "metadata": {
        "colab": {
          "base_uri": "https://localhost:8080/"
        },
        "id": "BHvhYT_96IRs",
        "outputId": "1f45a1e3-783b-4f0e-a48f-53adef71102e"
      },
      "outputs": [
        {
          "name": "stdout",
          "output_type": "stream",
          "text": [
            "127/127 [==============================] - 0s 3ms/step - loss: 0.5464 - accuracy: 0.8563\n",
            "Test Loss: 0.5464\n",
            "Test Accuracy: 0.8563\n"
          ]
        }
      ],
      "source": [
        "# Test scores\n",
        "scores = lstm_model.evaluate(X_test_seq, y_test)\n",
        "print(f\"Test Loss: {scores[0]:.4f}\")\n",
        "print(f\"Test Accuracy: {scores[1]:.4f}\")"
      ]
    },
    {
      "cell_type": "code",
      "execution_count": null,
      "metadata": {
        "colab": {
          "base_uri": "https://localhost:8080/"
        },
        "id": "IuxFt5hMbCgE",
        "outputId": "1d4df1d9-4651-419c-f6ba-ac9140103667"
      },
      "outputs": [
        {
          "name": "stdout",
          "output_type": "stream",
          "text": [
            "127/127 [==============================] - 2s 8ms/step\n"
          ]
        }
      ],
      "source": [
        "# Model prediction on testing set\n",
        "yhat_lstm = lstm_model.predict(X_test_seq)"
      ]
    },
    {
      "cell_type": "markdown",
      "metadata": {
        "id": "SroYkpvsxGeJ"
      },
      "source": [
        "### 3.2.3. GPT-2"
      ]
    },
    {
      "cell_type": "code",
      "execution_count": null,
      "metadata": {
        "colab": {
          "base_uri": "https://localhost:8080/"
        },
        "id": "CpilIWkfxJmh",
        "outputId": "96c34a85-030d-45ca-81e1-a15aac7571bc"
      },
      "outputs": [
        {
          "output_type": "stream",
          "name": "stdout",
          "text": [
            "Collecting transformers\n",
            "  Downloading transformers-4.33.1-py3-none-any.whl (7.6 MB)\n",
            "\u001b[2K     \u001b[90m━━━━━━━━━━━━━━━━━━━━━━━━━━━━━━━━━━━━━━━━\u001b[0m \u001b[32m7.6/7.6 MB\u001b[0m \u001b[31m17.5 MB/s\u001b[0m eta \u001b[36m0:00:00\u001b[0m\n",
            "\u001b[?25hRequirement already satisfied: filelock in /usr/local/lib/python3.10/dist-packages (from transformers) (3.12.2)\n",
            "Collecting huggingface-hub<1.0,>=0.15.1 (from transformers)\n",
            "  Downloading huggingface_hub-0.16.4-py3-none-any.whl (268 kB)\n",
            "\u001b[2K     \u001b[90m━━━━━━━━━━━━━━━━━━━━━━━━━━━━━━━━━━━━━━\u001b[0m \u001b[32m268.8/268.8 kB\u001b[0m \u001b[31m33.3 MB/s\u001b[0m eta \u001b[36m0:00:00\u001b[0m\n",
            "\u001b[?25hRequirement already satisfied: numpy>=1.17 in /usr/local/lib/python3.10/dist-packages (from transformers) (1.23.5)\n",
            "Requirement already satisfied: packaging>=20.0 in /usr/local/lib/python3.10/dist-packages (from transformers) (23.1)\n",
            "Requirement already satisfied: pyyaml>=5.1 in /usr/local/lib/python3.10/dist-packages (from transformers) (6.0.1)\n",
            "Requirement already satisfied: regex!=2019.12.17 in /usr/local/lib/python3.10/dist-packages (from transformers) (2023.6.3)\n",
            "Requirement already satisfied: requests in /usr/local/lib/python3.10/dist-packages (from transformers) (2.31.0)\n",
            "Collecting tokenizers!=0.11.3,<0.14,>=0.11.1 (from transformers)\n",
            "  Downloading tokenizers-0.13.3-cp310-cp310-manylinux_2_17_x86_64.manylinux2014_x86_64.whl (7.8 MB)\n",
            "\u001b[2K     \u001b[90m━━━━━━━━━━━━━━━━━━━━━━━━━━━━━━━━━━━━━━━━\u001b[0m \u001b[32m7.8/7.8 MB\u001b[0m \u001b[31m45.8 MB/s\u001b[0m eta \u001b[36m0:00:00\u001b[0m\n",
            "\u001b[?25hCollecting safetensors>=0.3.1 (from transformers)\n",
            "  Downloading safetensors-0.3.3-cp310-cp310-manylinux_2_17_x86_64.manylinux2014_x86_64.whl (1.3 MB)\n",
            "\u001b[2K     \u001b[90m━━━━━━━━━━━━━━━━━━━━━━━━━━━━━━━━━━━━━━━━\u001b[0m \u001b[32m1.3/1.3 MB\u001b[0m \u001b[31m51.6 MB/s\u001b[0m eta \u001b[36m0:00:00\u001b[0m\n",
            "\u001b[?25hRequirement already satisfied: tqdm>=4.27 in /usr/local/lib/python3.10/dist-packages (from transformers) (4.66.1)\n",
            "Requirement already satisfied: fsspec in /usr/local/lib/python3.10/dist-packages (from huggingface-hub<1.0,>=0.15.1->transformers) (2023.6.0)\n",
            "Requirement already satisfied: typing-extensions>=3.7.4.3 in /usr/local/lib/python3.10/dist-packages (from huggingface-hub<1.0,>=0.15.1->transformers) (4.5.0)\n",
            "Requirement already satisfied: charset-normalizer<4,>=2 in /usr/local/lib/python3.10/dist-packages (from requests->transformers) (3.2.0)\n",
            "Requirement already satisfied: idna<4,>=2.5 in /usr/local/lib/python3.10/dist-packages (from requests->transformers) (3.4)\n",
            "Requirement already satisfied: urllib3<3,>=1.21.1 in /usr/local/lib/python3.10/dist-packages (from requests->transformers) (2.0.4)\n",
            "Requirement already satisfied: certifi>=2017.4.17 in /usr/local/lib/python3.10/dist-packages (from requests->transformers) (2023.7.22)\n",
            "Installing collected packages: tokenizers, safetensors, huggingface-hub, transformers\n",
            "Successfully installed huggingface-hub-0.16.4 safetensors-0.3.3 tokenizers-0.13.3 transformers-4.33.1\n"
          ]
        }
      ],
      "source": [
        "!pip install transformers"
      ]
    },
    {
      "cell_type": "code",
      "execution_count": null,
      "metadata": {
        "colab": {
          "base_uri": "https://localhost:8080/",
          "height": 113,
          "referenced_widgets": [
            "d07532c5c99b470f80d2411f0681d1c8",
            "b3c5109d9c3b4f6caf0ce8a473d322fd",
            "f7c7c883a7ad4f4490ffb72c381dfbc7",
            "49248f5800cc40fbb369c591e20a96a3",
            "6cec585e130a4041849b2db47c53b635",
            "cfe7a0aea61b419a9973de6efe47e5c9",
            "3bb6b0c0777e493a92df860a1820634f",
            "a882a1c0075542958d454685c734f2b6",
            "f36b5c379fde439996fca25665d9f3b0",
            "b87990026daf4bc1b787023e5dee781b",
            "d4392521c56b4d90b29fe2006cded163",
            "f664ddecd04d45b381ee088e7747f924",
            "08586842e6774b2db0928ed0565c1aa3",
            "62b96e9496e64c0fb6ebc8508a793011",
            "0cc4333eb95948c2b758407cf8836473",
            "964c6b6d81034abaa6d0ddd83bfa210a",
            "84e8bf9ca0764f34ba2fd7705fad54b6",
            "21dbff120cd442838393e5bad1b5c2c7",
            "1a46c14032f041a5bc82272f7d2011dd",
            "e25ffc2a5566409a8ed9ca1b17bbfda9",
            "ffc80a76b4d4463f85f223d3c6a3868a",
            "40fa2f97541946559d3178b01de0a136",
            "b7f04749ade2409eb3983aee5851aeab",
            "3b0ea44b006a4684b33da2420ddd54e4",
            "0a4c326422ce415caa8d3d13b091745c",
            "f0a349176f6341a3aa6b0886c36d5656",
            "616adabf15d04b07b407abda20941be4",
            "d0668bca926e4f37b606ab21ecd00486",
            "e33e17b93ad3455086c95a5c3451bc50",
            "6c0174d92b6248d2b3d7a62c65bdfabc",
            "6b68992f2e4842e697bf86cbace38e1f",
            "2b138071db304ed7970bb323e4903ae3",
            "6f49203606f34352b3ff9e54afba536b"
          ]
        },
        "id": "4rqhoOWkwLTY",
        "outputId": "7ff8bf81-90c8-44d5-a420-8a73e1b38e79"
      },
      "outputs": [
        {
          "output_type": "display_data",
          "data": {
            "text/plain": [
              "Downloading (…)olve/main/vocab.json:   0%|          | 0.00/1.04M [00:00<?, ?B/s]"
            ],
            "application/vnd.jupyter.widget-view+json": {
              "version_major": 2,
              "version_minor": 0,
              "model_id": "d07532c5c99b470f80d2411f0681d1c8"
            }
          },
          "metadata": {}
        },
        {
          "output_type": "display_data",
          "data": {
            "text/plain": [
              "Downloading (…)olve/main/merges.txt:   0%|          | 0.00/456k [00:00<?, ?B/s]"
            ],
            "application/vnd.jupyter.widget-view+json": {
              "version_major": 2,
              "version_minor": 0,
              "model_id": "f664ddecd04d45b381ee088e7747f924"
            }
          },
          "metadata": {}
        },
        {
          "output_type": "display_data",
          "data": {
            "text/plain": [
              "Downloading (…)lve/main/config.json:   0%|          | 0.00/665 [00:00<?, ?B/s]"
            ],
            "application/vnd.jupyter.widget-view+json": {
              "version_major": 2,
              "version_minor": 0,
              "model_id": "b7f04749ade2409eb3983aee5851aeab"
            }
          },
          "metadata": {}
        }
      ],
      "source": [
        "from transformers import GPT2Tokenizer\n",
        "import tensorflow as tf\n",
        "\n",
        "# Model tokenizer\n",
        "tokenizer = GPT2Tokenizer.from_pretrained('gpt2')\n",
        "tokenizer.pad_token = tokenizer.eos_token\n",
        "\n",
        "tokenizer_ = lambda review: tokenizer(review,\n",
        "                                      max_length=max_words,\n",
        "                                      truncation=True,\n",
        "                                      padding='max_length',\n",
        "                                      return_tensors='tf')\n",
        "\n",
        "X_train_input = [tokenizer_(review)['input_ids'] for review in X_train]\n",
        "X_train_input = tf.squeeze(tf.convert_to_tensor(X_train_input), axis=1)\n",
        "X_train_mask = [tokenizer_(review)['attention_mask'] for review in X_train]\n",
        "X_train_mask = tf.squeeze(tf.convert_to_tensor(X_train_mask), axis=1)\n",
        "\n",
        "X_test_input = [tokenizer_(review)['input_ids'] for review in X_test]\n",
        "X_test_input = tf.squeeze(tf.convert_to_tensor(X_test_input), axis=1)\n",
        "X_test_mask = [tokenizer_(review)['attention_mask'] for review in X_test]\n",
        "X_test_mask = tf.squeeze(tf.convert_to_tensor(X_test_mask), axis=1)\n",
        "\n",
        "y_train_input = tf.convert_to_tensor(y_train, dtype=tf.int32)\n",
        "y_test_input = tf.convert_to_tensor(y_test, dtype=tf.int32)"
      ]
    },
    {
      "cell_type": "code",
      "execution_count": null,
      "metadata": {
        "colab": {
          "base_uri": "https://localhost:8080/",
          "height": 138,
          "referenced_widgets": [
            "9105a3f86e1d418f940552f82734ceec",
            "2477c9df305f4ec0a87f7627d980fa08",
            "d8dda05593e34db0a98128125f074e63",
            "482786cc0f2843d7b30e085a9c78656e",
            "89f0ffc53d4a44e69916c406ecd41cc7",
            "0a3bf5ba956a4894b622fd59042c7649",
            "6ac893b9b2ef4b6ab846aca3dccf3424",
            "62edf635c4604dff8ee8a9b661213716",
            "8b06dcd168c141da81d117692cc7867f",
            "d6dd7c82f9694312ad4a34301ae75a6c",
            "a5ceb4e66c154585a98cf1315ff7e065"
          ]
        },
        "id": "7ZUNAX1aS8Vd",
        "outputId": "d7c6db06-5d8b-4bdb-ff77-cf8165c4ca62"
      },
      "outputs": [
        {
          "output_type": "display_data",
          "data": {
            "text/plain": [
              "Downloading model.safetensors:   0%|          | 0.00/548M [00:00<?, ?B/s]"
            ],
            "application/vnd.jupyter.widget-view+json": {
              "version_major": 2,
              "version_minor": 0,
              "model_id": "9105a3f86e1d418f940552f82734ceec"
            }
          },
          "metadata": {}
        },
        {
          "output_type": "stream",
          "name": "stderr",
          "text": [
            "All PyTorch model weights were used when initializing TFGPT2Model.\n",
            "\n",
            "All the weights of TFGPT2Model were initialized from the PyTorch model.\n",
            "If your task is similar to the task the model of the checkpoint was trained on, you can already use TFGPT2Model for predictions without further training.\n"
          ]
        }
      ],
      "source": [
        "from transformers import TFGPT2Model\n",
        "\n",
        "# Load GPT2 pre-trained model\n",
        "base_model = TFGPT2Model.from_pretrained('gpt2')\n",
        "base_model.training = True\n",
        "\n",
        "# Resize model embedding to match new tokenizer\n",
        "base_model.resize_token_embeddings(len(tokenizer))\n",
        "base_model.config.pad_token_id = base_model.config.eos_token_id\n",
        "\n",
        "# Freeze model layers\n",
        "for layer in base_model.layers:\n",
        "    layer.trainable = False"
      ]
    },
    {
      "cell_type": "code",
      "execution_count": null,
      "metadata": {
        "id": "MS9PCpkjTK4D",
        "colab": {
          "base_uri": "https://localhost:8080/"
        },
        "outputId": "0dbce9de-6e67-4f10-9b58-da35cf3c3d30"
      },
      "outputs": [
        {
          "output_type": "stream",
          "name": "stdout",
          "text": [
            "Model: \"tfgpt2_model\"\n",
            "_________________________________________________________________\n",
            " Layer (type)                Output Shape              Param #   \n",
            "=================================================================\n",
            " transformer (TFGPT2MainLay  multiple                  124439808 \n",
            " er)                                                             \n",
            "                                                                 \n",
            "=================================================================\n",
            "Total params: 124439808 (474.70 MB)\n",
            "Trainable params: 0 (0.00 Byte)\n",
            "Non-trainable params: 124439808 (474.70 MB)\n",
            "_________________________________________________________________\n"
          ]
        }
      ],
      "source": [
        "base_model.summary()"
      ]
    },
    {
      "cell_type": "code",
      "execution_count": null,
      "metadata": {
        "colab": {
          "base_uri": "https://localhost:8080/"
        },
        "id": "FheTsML81IPX",
        "outputId": "7975d0b5-b442-4cb9-b059-51b49618083a"
      },
      "outputs": [
        {
          "output_type": "stream",
          "name": "stdout",
          "text": [
            "Model: \"model\"\n",
            "__________________________________________________________________________________________________\n",
            " Layer (type)                Output Shape                 Param #   Connected to                  \n",
            "==================================================================================================\n",
            " input_1 (InputLayer)        [(None, None)]               0         []                            \n",
            "                                                                                                  \n",
            " input_2 (InputLayer)        [(None, None)]               0         []                            \n",
            "                                                                                                  \n",
            " tfgpt2_model (TFGPT2Model)  TFBaseModelOutputWithPastA   1244398   ['input_1[0][0]',             \n",
            "                             ndCrossAttentions(last_hid   08         'input_2[0][0]']             \n",
            "                             den_state=(None, None, 768                                           \n",
            "                             ),                                                                   \n",
            "                              past_key_values=((2, None                                           \n",
            "                             , 12, None, 64),                                                     \n",
            "                              (2, None, 12, None, 64),                                            \n",
            "                              (2, None, 12, None, 64),                                            \n",
            "                              (2, None, 12, None, 64),                                            \n",
            "                              (2, None, 12, None, 64),                                            \n",
            "                              (2, None, 12, None, 64),                                            \n",
            "                              (2, None, 12, None, 64),                                            \n",
            "                              (2, None, 12, None, 64),                                            \n",
            "                              (2, None, 12, None, 64),                                            \n",
            "                              (2, None, 12, None, 64),                                            \n",
            "                              (2, None, 12, None, 64),                                            \n",
            "                              (2, None, 12, None, 64)),                                           \n",
            "                              hidden_states=None, atten                                           \n",
            "                             tions=None, cross_attentio                                           \n",
            "                             ns=None)                                                             \n",
            "                                                                                                  \n",
            " tf.math.reduce_mean (TFOpL  (None, 768)                  0         ['tfgpt2_model[0][0]']        \n",
            " ambda)                                                                                           \n",
            "                                                                                                  \n",
            " dense_2 (Dense)             (None, 64)                   49216     ['tf.math.reduce_mean[0][0]'] \n",
            "                                                                                                  \n",
            " dense_3 (Dense)             (None, 1)                    65        ['dense_2[0][0]']             \n",
            "                                                                                                  \n",
            "==================================================================================================\n",
            "Total params: 124489089 (474.89 MB)\n",
            "Trainable params: 49281 (192.50 KB)\n",
            "Non-trainable params: 124439808 (474.70 MB)\n",
            "__________________________________________________________________________________________________\n"
          ]
        }
      ],
      "source": [
        "from keras.layers import Input\n",
        "\n",
        "# Transfer Learning\n",
        "input = Input(shape=(None,), dtype='int32')\n",
        "mask = Input(shape=(None,), dtype='int32')\n",
        "x = base_model(input, attention_mask=mask)\n",
        "x = tf.reduce_mean(x.last_hidden_state, axis=1)\n",
        "x = Dense(64, activation='relu')(x)\n",
        "output = Dense(1, activation='sigmoid')(x)\n",
        "\n",
        "gpt2_model = tf.keras.Model([input, mask], output)\n",
        "gpt2_model.summary()"
      ]
    },
    {
      "cell_type": "code",
      "source": [
        "# Compile the model\n",
        "gpt2_model.compile(loss='binary_crossentropy',\n",
        "                   optimizer=Adam(learning_rate=1e-4),\n",
        "                   metrics=['accuracy'])\n",
        "\n",
        "# Set history and early-stopping callbacks\n",
        "history = History()\n",
        "earlystopping = EarlyStopping(monitor='val_loss',\n",
        "                              patience=3,\n",
        "                              verbose=0,\n",
        "                              restore_best_weights=True,\n",
        "                              mode='auto')\n",
        "\n",
        "# Train the model on new data\n",
        "gpt2_model.fit([X_train_input, X_train_mask],\n",
        "               y_train_input,\n",
        "               batch_size=64,\n",
        "               epochs=25,\n",
        "               validation_split=0.15,\n",
        "               callbacks=[history, earlystopping])"
      ],
      "metadata": {
        "colab": {
          "base_uri": "https://localhost:8080/"
        },
        "id": "GSfnnOzXp9RO",
        "outputId": "65e2205c-fcdd-4a3e-bf6a-8bf861502ece"
      },
      "execution_count": null,
      "outputs": [
        {
          "output_type": "stream",
          "name": "stdout",
          "text": [
            "Epoch 1/25\n",
            "216/216 [==============================] - 81s 297ms/step - loss: 0.8147 - accuracy: 0.5570 - val_loss: 0.6345 - val_accuracy: 0.6569\n",
            "Epoch 2/25\n",
            "216/216 [==============================] - 63s 294ms/step - loss: 0.6259 - accuracy: 0.6592 - val_loss: 0.5850 - val_accuracy: 0.7112\n",
            "Epoch 3/25\n",
            "216/216 [==============================] - 63s 294ms/step - loss: 0.5850 - accuracy: 0.7045 - val_loss: 0.5569 - val_accuracy: 0.7182\n",
            "Epoch 4/25\n",
            "216/216 [==============================] - 64s 295ms/step - loss: 0.5532 - accuracy: 0.7362 - val_loss: 0.5337 - val_accuracy: 0.7465\n",
            "Epoch 5/25\n",
            "216/216 [==============================] - 65s 300ms/step - loss: 0.5345 - accuracy: 0.7438 - val_loss: 0.5177 - val_accuracy: 0.7543\n",
            "Epoch 6/25\n",
            "216/216 [==============================] - 65s 300ms/step - loss: 0.5218 - accuracy: 0.7522 - val_loss: 0.5046 - val_accuracy: 0.7638\n",
            "Epoch 7/25\n",
            "216/216 [==============================] - 63s 294ms/step - loss: 0.5086 - accuracy: 0.7590 - val_loss: 0.5013 - val_accuracy: 0.7580\n",
            "Epoch 8/25\n",
            "216/216 [==============================] - 65s 300ms/step - loss: 0.4973 - accuracy: 0.7651 - val_loss: 0.4923 - val_accuracy: 0.7625\n",
            "Epoch 9/25\n",
            "216/216 [==============================] - 64s 294ms/step - loss: 0.4914 - accuracy: 0.7686 - val_loss: 0.4829 - val_accuracy: 0.7712\n",
            "Epoch 10/25\n",
            "216/216 [==============================] - 64s 294ms/step - loss: 0.4858 - accuracy: 0.7733 - val_loss: 0.4786 - val_accuracy: 0.7773\n",
            "Epoch 11/25\n",
            "216/216 [==============================] - 65s 300ms/step - loss: 0.4778 - accuracy: 0.7770 - val_loss: 0.4734 - val_accuracy: 0.7790\n",
            "Epoch 12/25\n",
            "216/216 [==============================] - 64s 295ms/step - loss: 0.4773 - accuracy: 0.7781 - val_loss: 0.4655 - val_accuracy: 0.7884\n",
            "Epoch 13/25\n",
            "216/216 [==============================] - 64s 295ms/step - loss: 0.4702 - accuracy: 0.7821 - val_loss: 0.4631 - val_accuracy: 0.7884\n",
            "Epoch 14/25\n",
            "216/216 [==============================] - 65s 300ms/step - loss: 0.4649 - accuracy: 0.7875 - val_loss: 0.4627 - val_accuracy: 0.7823\n",
            "Epoch 15/25\n",
            "216/216 [==============================] - 65s 300ms/step - loss: 0.4652 - accuracy: 0.7827 - val_loss: 0.4561 - val_accuracy: 0.7921\n",
            "Epoch 16/25\n",
            "216/216 [==============================] - 65s 300ms/step - loss: 0.4587 - accuracy: 0.7895 - val_loss: 0.4516 - val_accuracy: 0.7942\n",
            "Epoch 17/25\n",
            "216/216 [==============================] - 65s 300ms/step - loss: 0.4534 - accuracy: 0.7900 - val_loss: 0.4488 - val_accuracy: 0.7983\n",
            "Epoch 18/25\n",
            "216/216 [==============================] - 64s 298ms/step - loss: 0.4558 - accuracy: 0.7882 - val_loss: 0.4527 - val_accuracy: 0.7892\n",
            "Epoch 19/25\n",
            "216/216 [==============================] - 64s 298ms/step - loss: 0.4529 - accuracy: 0.7930 - val_loss: 0.4584 - val_accuracy: 0.7843\n",
            "Epoch 20/25\n",
            "216/216 [==============================] - 64s 294ms/step - loss: 0.4521 - accuracy: 0.7918 - val_loss: 0.4419 - val_accuracy: 0.8007\n",
            "Epoch 21/25\n",
            "216/216 [==============================] - 64s 299ms/step - loss: 0.4448 - accuracy: 0.7987 - val_loss: 0.4420 - val_accuracy: 0.7970\n",
            "Epoch 22/25\n",
            "216/216 [==============================] - 64s 295ms/step - loss: 0.4431 - accuracy: 0.7984 - val_loss: 0.4392 - val_accuracy: 0.8012\n",
            "Epoch 23/25\n",
            "216/216 [==============================] - 64s 295ms/step - loss: 0.4441 - accuracy: 0.7972 - val_loss: 0.4373 - val_accuracy: 0.8007\n",
            "Epoch 24/25\n",
            "216/216 [==============================] - 64s 294ms/step - loss: 0.4427 - accuracy: 0.7999 - val_loss: 0.4352 - val_accuracy: 0.8032\n",
            "Epoch 25/25\n",
            "216/216 [==============================] - 65s 300ms/step - loss: 0.4402 - accuracy: 0.8013 - val_loss: 0.4341 - val_accuracy: 0.8032\n"
          ]
        },
        {
          "output_type": "execute_result",
          "data": {
            "text/plain": [
              "<keras.src.callbacks.History at 0x79cdd392b010>"
            ]
          },
          "metadata": {},
          "execution_count": 18
        }
      ]
    },
    {
      "cell_type": "code",
      "source": [
        "history_loss_accuracy(history)"
      ],
      "metadata": {
        "colab": {
          "base_uri": "https://localhost:8080/",
          "height": 472
        },
        "id": "XevQziVT5jbG",
        "outputId": "10b324d6-4984-403c-fb94-e7004ecce961"
      },
      "execution_count": null,
      "outputs": [
        {
          "output_type": "display_data",
          "data": {
            "text/plain": [
              "<Figure size 640x480 with 1 Axes>"
            ],
            "image/png": "[encoded data removed]"
          },
          "metadata": {}
        }
      ]
    },
    {
      "cell_type": "code",
      "source": [
        "# Test scores\n",
        "scores = gpt2_model.evaluate([X_test_input, X_test_mask], y_test)\n",
        "print(f\"Test Loss: {scores[0]:.4f}\")\n",
        "print(f\"Test Accuracy: {scores[1]:.4f}\")"
      ],
      "metadata": {
        "colab": {
          "base_uri": "https://localhost:8080/"
        },
        "id": "sfeFIX2i-5iT",
        "outputId": "432ae246-3e3c-4185-85e0-f6deb110afa7"
      },
      "execution_count": null,
      "outputs": [
        {
          "output_type": "stream",
          "name": "stdout",
          "text": [
            "127/127 [==============================] - 19s 122ms/step - loss: 0.4371 - accuracy: 0.7991\n",
            "Test Loss: 0.4371\n",
            "Test Accuracy: 0.7991\n"
          ]
        }
      ]
    },
    {
      "cell_type": "code",
      "execution_count": null,
      "metadata": {
        "colab": {
          "base_uri": "https://localhost:8080/"
        },
        "id": "U3tN_ufubeAT",
        "outputId": "a1b199cc-1d8b-49e2-ab13-be61153facd7"
      },
      "outputs": [
        {
          "output_type": "stream",
          "name": "stdout",
          "text": [
            "127/127 [==============================] - 18s 123ms/step\n"
          ]
        }
      ],
      "source": [
        "# Model prediction on testing set\n",
        "yhat_gpt2 = gpt2_model.predict([X_test_input, X_test_mask])"
      ]
    },
    {
      "cell_type": "markdown",
      "metadata": {
        "id": "tdAtE1t2WGi1"
      },
      "source": [
        "## 3.3. Save models and predictions"
      ]
    },
    {
      "cell_type": "code",
      "execution_count": null,
      "metadata": {
        "id": "72enuS-lAH3T"
      },
      "outputs": [],
      "source": [
        "!mkdir '{base_path}/models' '{base_path}/predictions'"
      ]
    },
    {
      "cell_type": "code",
      "execution_count": null,
      "metadata": {
        "id": "eZ1f8tdcgdJJ"
      },
      "outputs": [],
      "source": [
        "import pickle\n",
        "\n",
        "pickle.dump(xgb_model, open(base_path + '/models/xgb_model.pkl', 'wb'))\n",
        "keras.models.save_model(lstm_model, base_path + '/models/lstm_model.keras')\n",
        "keras.models.save_model(gpt2_model, base_path + '/models/gpt2_model.keras', save_format='tf')"
      ]
    },
    {
      "cell_type": "code",
      "execution_count": null,
      "metadata": {
        "id": "_XO1nE-E446k"
      },
      "outputs": [],
      "source": [
        "testpredictions_df = pd.DataFrame({'sentiment': y_test,\n",
        "                                   'xgb_pred': yhat_xgb,\n",
        "                                   'lstm_pred': yhat_lstm.reshape(-1),\n",
        "                                   'gpt2_pred': yhat_gpt2.reshape(-1)})\n",
        "testpredictions_df.to_csv(base_path + '/predictions/test_predictions.csv', index=False)"
      ]
    },
    {
      "cell_type": "markdown",
      "metadata": {
        "id": "b-N97nxrZZLL"
      },
      "source": [
        "## 3.4. Comments"
      ]
    },
    {
      "cell_type": "markdown",
      "metadata": {
        "id": "LkwG2nLNeYln"
      },
      "source": [
        "Se han utilizado tres modelos con los que entrenar los datos preprocesados:\n",
        "- **XGBoost**: Con la profundidad de los árboles y el número de estimadores óptimos el modelo daba problemas de sobreajuste, por lo que se han ajustado los hiperparámetros tratando de reducir este problema, obteniendo un *accuracy* en el cojunto de test del $83.12\\%$.\n",
        "\n",
        "- **Red LSTM**: Dadas las características del problema de clasificación, se ha optado por utilizar este tipo de red neuronal recurrente buscando que el modelo sea capaz de recoger la información relevante de cada review, para prevenir el overfitting se ha utilizado la regularización L1 junto con capas de dropout. Respecto al *accuracy*, ha sido del $85.63\\%$ en el cojunto de test, el mejor de los tres modelos.\n",
        "\n",
        "- **GPT-2**: Partiendo del modelo preentrenado GPT-2 como base, se ha utilizado la técnica de transfer learing tomando la salida transformada del modelo GPT-2 como entrada de otro modelo de clasificación formado por dos capas fully-connected. No presenta síntomas de overfitting con un *accuracy* en el cojunto de test del $79.91\\%$.\n"
      ]
    }
  ],
  "metadata": {
    "accelerator": "GPU",
    "colab": {
      "provenance": [],
      "toc_visible": true,
      "gpuType": "T4"
    },
    "kernelspec": {
      "display_name": "Python 3",
      "name": "python3"
    },
    "language_info": {
      "name": "python"
    },
    "widgets": {
      "application/vnd.jupyter.widget-state+json": {
        "d07532c5c99b470f80d2411f0681d1c8": {
          "model_module": "@jupyter-widgets/controls",
          "model_name": "HBoxModel",
          "model_module_version": "1.5.0",
          "state": {
            "_dom_classes": [],
            "_model_module": "@jupyter-widgets/controls",
            "_model_module_version": "1.5.0",
            "_model_name": "HBoxModel",
            "_view_count": null,
            "_view_module": "@jupyter-widgets/controls",
            "_view_module_version": "1.5.0",
            "_view_name": "HBoxView",
            "box_style": "",
            "children": [
              "IPY_MODEL_b3c5109d9c3b4f6caf0ce8a473d322fd",
              "IPY_MODEL_f7c7c883a7ad4f4490ffb72c381dfbc7",
              "IPY_MODEL_49248f5800cc40fbb369c591e20a96a3"
            ],
            "layout": "IPY_MODEL_6cec585e130a4041849b2db47c53b635"
          }
        },
        "b3c5109d9c3b4f6caf0ce8a473d322fd": {
          "model_module": "@jupyter-widgets/controls",
          "model_name": "HTMLModel",
          "model_module_version": "1.5.0",
          "state": {
            "_dom_classes": [],
            "_model_module": "@jupyter-widgets/controls",
            "_model_module_version": "1.5.0",
            "_model_name": "HTMLModel",
            "_view_count": null,
            "_view_module": "@jupyter-widgets/controls",
            "_view_module_version": "1.5.0",
            "_view_name": "HTMLView",
            "description": "",
            "description_tooltip": null,
            "layout": "IPY_MODEL_cfe7a0aea61b419a9973de6efe47e5c9",
            "placeholder": "​",
            "style": "IPY_MODEL_3bb6b0c0777e493a92df860a1820634f",
            "value": "Downloading (…)olve/main/vocab.json: 100%"
          }
        },
        "f7c7c883a7ad4f4490ffb72c381dfbc7": {
          "model_module": "@jupyter-widgets/controls",
          "model_name": "FloatProgressModel",
          "model_module_version": "1.5.0",
          "state": {
            "_dom_classes": [],
            "_model_module": "@jupyter-widgets/controls",
            "_model_module_version": "1.5.0",
            "_model_name": "FloatProgressModel",
            "_view_count": null,
            "_view_module": "@jupyter-widgets/controls",
            "_view_module_version": "1.5.0",
            "_view_name": "ProgressView",
            "bar_style": "success",
            "description": "",
            "description_tooltip": null,
            "layout": "IPY_MODEL_a882a1c0075542958d454685c734f2b6",
            "max": 1042301,
            "min": 0,
            "orientation": "horizontal",
            "style": "IPY_MODEL_f36b5c379fde439996fca25665d9f3b0",
            "value": 1042301
          }
        },
        "49248f5800cc40fbb369c591e20a96a3": {
          "model_module": "@jupyter-widgets/controls",
          "model_name": "HTMLModel",
          "model_module_version": "1.5.0",
          "state": {
            "_dom_classes": [],
            "_model_module": "@jupyter-widgets/controls",
            "_model_module_version": "1.5.0",
            "_model_name": "HTMLModel",
            "_view_count": null,
            "_view_module": "@jupyter-widgets/controls",
            "_view_module_version": "1.5.0",
            "_view_name": "HTMLView",
            "description": "",
            "description_tooltip": null,
            "layout": "IPY_MODEL_b87990026daf4bc1b787023e5dee781b",
            "placeholder": "​",
            "style": "IPY_MODEL_d4392521c56b4d90b29fe2006cded163",
            "value": " 1.04M/1.04M [00:00&lt;00:00, 13.3MB/s]"
          }
        },
        "6cec585e130a4041849b2db47c53b635": {
          "model_module": "@jupyter-widgets/base",
          "model_name": "LayoutModel",
          "model_module_version": "1.2.0",
          "state": {
            "_model_module": "@jupyter-widgets/base",
            "_model_module_version": "1.2.0",
            "_model_name": "LayoutModel",
            "_view_count": null,
            "_view_module": "@jupyter-widgets/base",
            "_view_module_version": "1.2.0",
            "_view_name": "LayoutView",
            "align_content": null,
            "align_items": null,
            "align_self": null,
            "border": null,
            "bottom": null,
            "display": null,
            "flex": null,
            "flex_flow": null,
            "grid_area": null,
            "grid_auto_columns": null,
            "grid_auto_flow": null,
            "grid_auto_rows": null,
            "grid_column": null,
            "grid_gap": null,
            "grid_row": null,
            "grid_template_areas": null,
            "grid_template_columns": null,
            "grid_template_rows": null,
            "height": null,
            "justify_content": null,
            "justify_items": null,
            "left": null,
            "margin": null,
            "max_height": null,
            "max_width": null,
            "min_height": null,
            "min_width": null,
            "object_fit": null,
            "object_position": null,
            "order": null,
            "overflow": null,
            "overflow_x": null,
            "overflow_y": null,
            "padding": null,
            "right": null,
            "top": null,
            "visibility": null,
            "width": null
          }
        },
        "cfe7a0aea61b419a9973de6efe47e5c9": {
          "model_module": "@jupyter-widgets/base",
          "model_name": "LayoutModel",
          "model_module_version": "1.2.0",
          "state": {
            "_model_module": "@jupyter-widgets/base",
            "_model_module_version": "1.2.0",
            "_model_name": "LayoutModel",
            "_view_count": null,
            "_view_module": "@jupyter-widgets/base",
            "_view_module_version": "1.2.0",
            "_view_name": "LayoutView",
            "align_content": null,
            "align_items": null,
            "align_self": null,
            "border": null,
            "bottom": null,
            "display": null,
            "flex": null,
            "flex_flow": null,
            "grid_area": null,
            "grid_auto_columns": null,
            "grid_auto_flow": null,
            "grid_auto_rows": null,
            "grid_column": null,
            "grid_gap": null,
            "grid_row": null,
            "grid_template_areas": null,
            "grid_template_columns": null,
            "grid_template_rows": null,
            "height": null,
            "justify_content": null,
            "justify_items": null,
            "left": null,
            "margin": null,
            "max_height": null,
            "max_width": null,
            "min_height": null,
            "min_width": null,
            "object_fit": null,
            "object_position": null,
            "order": null,
            "overflow": null,
            "overflow_x": null,
            "overflow_y": null,
            "padding": null,
            "right": null,
            "top": null,
            "visibility": null,
            "width": null
          }
        },
        "3bb6b0c0777e493a92df860a1820634f": {
          "model_module": "@jupyter-widgets/controls",
          "model_name": "DescriptionStyleModel",
          "model_module_version": "1.5.0",
          "state": {
            "_model_module": "@jupyter-widgets/controls",
            "_model_module_version": "1.5.0",
            "_model_name": "DescriptionStyleModel",
            "_view_count": null,
            "_view_module": "@jupyter-widgets/base",
            "_view_module_version": "1.2.0",
            "_view_name": "StyleView",
            "description_width": ""
          }
        },
        "a882a1c0075542958d454685c734f2b6": {
          "model_module": "@jupyter-widgets/base",
          "model_name": "LayoutModel",
          "model_module_version": "1.2.0",
          "state": {
            "_model_module": "@jupyter-widgets/base",
            "_model_module_version": "1.2.0",
            "_model_name": "LayoutModel",
            "_view_count": null,
            "_view_module": "@jupyter-widgets/base",
            "_view_module_version": "1.2.0",
            "_view_name": "LayoutView",
            "align_content": null,
            "align_items": null,
            "align_self": null,
            "border": null,
            "bottom": null,
            "display": null,
            "flex": null,
            "flex_flow": null,
            "grid_area": null,
            "grid_auto_columns": null,
            "grid_auto_flow": null,
            "grid_auto_rows": null,
            "grid_column": null,
            "grid_gap": null,
            "grid_row": null,
            "grid_template_areas": null,
            "grid_template_columns": null,
            "grid_template_rows": null,
            "height": null,
            "justify_content": null,
            "justify_items": null,
            "left": null,
            "margin": null,
            "max_height": null,
            "max_width": null,
            "min_height": null,
            "min_width": null,
            "object_fit": null,
            "object_position": null,
            "order": null,
            "overflow": null,
            "overflow_x": null,
            "overflow_y": null,
            "padding": null,
            "right": null,
            "top": null,
            "visibility": null,
            "width": null
          }
        },
        "f36b5c379fde439996fca25665d9f3b0": {
          "model_module": "@jupyter-widgets/controls",
          "model_name": "ProgressStyleModel",
          "model_module_version": "1.5.0",
          "state": {
            "_model_module": "@jupyter-widgets/controls",
            "_model_module_version": "1.5.0",
            "_model_name": "ProgressStyleModel",
            "_view_count": null,
            "_view_module": "@jupyter-widgets/base",
            "_view_module_version": "1.2.0",
            "_view_name": "StyleView",
            "bar_color": null,
            "description_width": ""
          }
        },
        "b87990026daf4bc1b787023e5dee781b": {
          "model_module": "@jupyter-widgets/base",
          "model_name": "LayoutModel",
          "model_module_version": "1.2.0",
          "state": {
            "_model_module": "@jupyter-widgets/base",
            "_model_module_version": "1.2.0",
            "_model_name": "LayoutModel",
            "_view_count": null,
            "_view_module": "@jupyter-widgets/base",
            "_view_module_version": "1.2.0",
            "_view_name": "LayoutView",
            "align_content": null,
            "align_items": null,
            "align_self": null,
            "border": null,
            "bottom": null,
            "display": null,
            "flex": null,
            "flex_flow": null,
            "grid_area": null,
            "grid_auto_columns": null,
            "grid_auto_flow": null,
            "grid_auto_rows": null,
            "grid_column": null,
            "grid_gap": null,
            "grid_row": null,
            "grid_template_areas": null,
            "grid_template_columns": null,
            "grid_template_rows": null,
            "height": null,
            "justify_content": null,
            "justify_items": null,
            "left": null,
            "margin": null,
            "max_height": null,
            "max_width": null,
            "min_height": null,
            "min_width": null,
            "object_fit": null,
            "object_position": null,
            "order": null,
            "overflow": null,
            "overflow_x": null,
            "overflow_y": null,
            "padding": null,
            "right": null,
            "top": null,
            "visibility": null,
            "width": null
          }
        },
        "d4392521c56b4d90b29fe2006cded163": {
          "model_module": "@jupyter-widgets/controls",
          "model_name": "DescriptionStyleModel",
          "model_module_version": "1.5.0",
          "state": {
            "_model_module": "@jupyter-widgets/controls",
            "_model_module_version": "1.5.0",
            "_model_name": "DescriptionStyleModel",
            "_view_count": null,
            "_view_module": "@jupyter-widgets/base",
            "_view_module_version": "1.2.0",
            "_view_name": "StyleView",
            "description_width": ""
          }
        },
        "f664ddecd04d45b381ee088e7747f924": {
          "model_module": "@jupyter-widgets/controls",
          "model_name": "HBoxModel",
          "model_module_version": "1.5.0",
          "state": {
            "_dom_classes": [],
            "_model_module": "@jupyter-widgets/controls",
            "_model_module_version": "1.5.0",
            "_model_name": "HBoxModel",
            "_view_count": null,
            "_view_module": "@jupyter-widgets/controls",
            "_view_module_version": "1.5.0",
            "_view_name": "HBoxView",
            "box_style": "",
            "children": [
              "IPY_MODEL_08586842e6774b2db0928ed0565c1aa3",
              "IPY_MODEL_62b96e9496e64c0fb6ebc8508a793011",
              "IPY_MODEL_0cc4333eb95948c2b758407cf8836473"
            ],
            "layout": "IPY_MODEL_964c6b6d81034abaa6d0ddd83bfa210a"
          }
        },
        "08586842e6774b2db0928ed0565c1aa3": {
          "model_module": "@jupyter-widgets/controls",
          "model_name": "HTMLModel",
          "model_module_version": "1.5.0",
          "state": {
            "_dom_classes": [],
            "_model_module": "@jupyter-widgets/controls",
            "_model_module_version": "1.5.0",
            "_model_name": "HTMLModel",
            "_view_count": null,
            "_view_module": "@jupyter-widgets/controls",
            "_view_module_version": "1.5.0",
            "_view_name": "HTMLView",
            "description": "",
            "description_tooltip": null,
            "layout": "IPY_MODEL_84e8bf9ca0764f34ba2fd7705fad54b6",
            "placeholder": "​",
            "style": "IPY_MODEL_21dbff120cd442838393e5bad1b5c2c7",
            "value": "Downloading (…)olve/main/merges.txt: 100%"
          }
        },
        "62b96e9496e64c0fb6ebc8508a793011": {
          "model_module": "@jupyter-widgets/controls",
          "model_name": "FloatProgressModel",
          "model_module_version": "1.5.0",
          "state": {
            "_dom_classes": [],
            "_model_module": "@jupyter-widgets/controls",
            "_model_module_version": "1.5.0",
            "_model_name": "FloatProgressModel",
            "_view_count": null,
            "_view_module": "@jupyter-widgets/controls",
            "_view_module_version": "1.5.0",
            "_view_name": "ProgressView",
            "bar_style": "success",
            "description": "",
            "description_tooltip": null,
            "layout": "IPY_MODEL_1a46c14032f041a5bc82272f7d2011dd",
            "max": 456318,
            "min": 0,
            "orientation": "horizontal",
            "style": "IPY_MODEL_e25ffc2a5566409a8ed9ca1b17bbfda9",
            "value": 456318
          }
        },
        "0cc4333eb95948c2b758407cf8836473": {
          "model_module": "@jupyter-widgets/controls",
          "model_name": "HTMLModel",
          "model_module_version": "1.5.0",
          "state": {
            "_dom_classes": [],
            "_model_module": "@jupyter-widgets/controls",
            "_model_module_version": "1.5.0",
            "_model_name": "HTMLModel",
            "_view_count": null,
            "_view_module": "@jupyter-widgets/controls",
            "_view_module_version": "1.5.0",
            "_view_name": "HTMLView",
            "description": "",
            "description_tooltip": null,
            "layout": "IPY_MODEL_ffc80a76b4d4463f85f223d3c6a3868a",
            "placeholder": "​",
            "style": "IPY_MODEL_40fa2f97541946559d3178b01de0a136",
            "value": " 456k/456k [00:00&lt;00:00, 25.2MB/s]"
          }
        },
        "964c6b6d81034abaa6d0ddd83bfa210a": {
          "model_module": "@jupyter-widgets/base",
          "model_name": "LayoutModel",
          "model_module_version": "1.2.0",
          "state": {
            "_model_module": "@jupyter-widgets/base",
            "_model_module_version": "1.2.0",
            "_model_name": "LayoutModel",
            "_view_count": null,
            "_view_module": "@jupyter-widgets/base",
            "_view_module_version": "1.2.0",
            "_view_name": "LayoutView",
            "align_content": null,
            "align_items": null,
            "align_self": null,
            "border": null,
            "bottom": null,
            "display": null,
            "flex": null,
            "flex_flow": null,
            "grid_area": null,
            "grid_auto_columns": null,
            "grid_auto_flow": null,
            "grid_auto_rows": null,
            "grid_column": null,
            "grid_gap": null,
            "grid_row": null,
            "grid_template_areas": null,
            "grid_template_columns": null,
            "grid_template_rows": null,
            "height": null,
            "justify_content": null,
            "justify_items": null,
            "left": null,
            "margin": null,
            "max_height": null,
            "max_width": null,
            "min_height": null,
            "min_width": null,
            "object_fit": null,
            "object_position": null,
            "order": null,
            "overflow": null,
            "overflow_x": null,
            "overflow_y": null,
            "padding": null,
            "right": null,
            "top": null,
            "visibility": null,
            "width": null
          }
        },
        "84e8bf9ca0764f34ba2fd7705fad54b6": {
          "model_module": "@jupyter-widgets/base",
          "model_name": "LayoutModel",
          "model_module_version": "1.2.0",
          "state": {
            "_model_module": "@jupyter-widgets/base",
            "_model_module_version": "1.2.0",
            "_model_name": "LayoutModel",
            "_view_count": null,
            "_view_module": "@jupyter-widgets/base",
            "_view_module_version": "1.2.0",
            "_view_name": "LayoutView",
            "align_content": null,
            "align_items": null,
            "align_self": null,
            "border": null,
            "bottom": null,
            "display": null,
            "flex": null,
            "flex_flow": null,
            "grid_area": null,
            "grid_auto_columns": null,
            "grid_auto_flow": null,
            "grid_auto_rows": null,
            "grid_column": null,
            "grid_gap": null,
            "grid_row": null,
            "grid_template_areas": null,
            "grid_template_columns": null,
            "grid_template_rows": null,
            "height": null,
            "justify_content": null,
            "justify_items": null,
            "left": null,
            "margin": null,
            "max_height": null,
            "max_width": null,
            "min_height": null,
            "min_width": null,
            "object_fit": null,
            "object_position": null,
            "order": null,
            "overflow": null,
            "overflow_x": null,
            "overflow_y": null,
            "padding": null,
            "right": null,
            "top": null,
            "visibility": null,
            "width": null
          }
        },
        "21dbff120cd442838393e5bad1b5c2c7": {
          "model_module": "@jupyter-widgets/controls",
          "model_name": "DescriptionStyleModel",
          "model_module_version": "1.5.0",
          "state": {
            "_model_module": "@jupyter-widgets/controls",
            "_model_module_version": "1.5.0",
            "_model_name": "DescriptionStyleModel",
            "_view_count": null,
            "_view_module": "@jupyter-widgets/base",
            "_view_module_version": "1.2.0",
            "_view_name": "StyleView",
            "description_width": ""
          }
        },
        "1a46c14032f041a5bc82272f7d2011dd": {
          "model_module": "@jupyter-widgets/base",
          "model_name": "LayoutModel",
          "model_module_version": "1.2.0",
          "state": {
            "_model_module": "@jupyter-widgets/base",
            "_model_module_version": "1.2.0",
            "_model_name": "LayoutModel",
            "_view_count": null,
            "_view_module": "@jupyter-widgets/base",
            "_view_module_version": "1.2.0",
            "_view_name": "LayoutView",
            "align_content": null,
            "align_items": null,
            "align_self": null,
            "border": null,
            "bottom": null,
            "display": null,
            "flex": null,
            "flex_flow": null,
            "grid_area": null,
            "grid_auto_columns": null,
            "grid_auto_flow": null,
            "grid_auto_rows": null,
            "grid_column": null,
            "grid_gap": null,
            "grid_row": null,
            "grid_template_areas": null,
            "grid_template_columns": null,
            "grid_template_rows": null,
            "height": null,
            "justify_content": null,
            "justify_items": null,
            "left": null,
            "margin": null,
            "max_height": null,
            "max_width": null,
            "min_height": null,
            "min_width": null,
            "object_fit": null,
            "object_position": null,
            "order": null,
            "overflow": null,
            "overflow_x": null,
            "overflow_y": null,
            "padding": null,
            "right": null,
            "top": null,
            "visibility": null,
            "width": null
          }
        },
        "e25ffc2a5566409a8ed9ca1b17bbfda9": {
          "model_module": "@jupyter-widgets/controls",
          "model_name": "ProgressStyleModel",
          "model_module_version": "1.5.0",
          "state": {
            "_model_module": "@jupyter-widgets/controls",
            "_model_module_version": "1.5.0",
            "_model_name": "ProgressStyleModel",
            "_view_count": null,
            "_view_module": "@jupyter-widgets/base",
            "_view_module_version": "1.2.0",
            "_view_name": "StyleView",
            "bar_color": null,
            "description_width": ""
          }
        },
        "ffc80a76b4d4463f85f223d3c6a3868a": {
          "model_module": "@jupyter-widgets/base",
          "model_name": "LayoutModel",
          "model_module_version": "1.2.0",
          "state": {
            "_model_module": "@jupyter-widgets/base",
            "_model_module_version": "1.2.0",
            "_model_name": "LayoutModel",
            "_view_count": null,
            "_view_module": "@jupyter-widgets/base",
            "_view_module_version": "1.2.0",
            "_view_name": "LayoutView",
            "align_content": null,
            "align_items": null,
            "align_self": null,
            "border": null,
            "bottom": null,
            "display": null,
            "flex": null,
            "flex_flow": null,
            "grid_area": null,
            "grid_auto_columns": null,
            "grid_auto_flow": null,
            "grid_auto_rows": null,
            "grid_column": null,
            "grid_gap": null,
            "grid_row": null,
            "grid_template_areas": null,
            "grid_template_columns": null,
            "grid_template_rows": null,
            "height": null,
            "justify_content": null,
            "justify_items": null,
            "left": null,
            "margin": null,
            "max_height": null,
            "max_width": null,
            "min_height": null,
            "min_width": null,
            "object_fit": null,
            "object_position": null,
            "order": null,
            "overflow": null,
            "overflow_x": null,
            "overflow_y": null,
            "padding": null,
            "right": null,
            "top": null,
            "visibility": null,
            "width": null
          }
        },
        "40fa2f97541946559d3178b01de0a136": {
          "model_module": "@jupyter-widgets/controls",
          "model_name": "DescriptionStyleModel",
          "model_module_version": "1.5.0",
          "state": {
            "_model_module": "@jupyter-widgets/controls",
            "_model_module_version": "1.5.0",
            "_model_name": "DescriptionStyleModel",
            "_view_count": null,
            "_view_module": "@jupyter-widgets/base",
            "_view_module_version": "1.2.0",
            "_view_name": "StyleView",
            "description_width": ""
          }
        },
        "b7f04749ade2409eb3983aee5851aeab": {
          "model_module": "@jupyter-widgets/controls",
          "model_name": "HBoxModel",
          "model_module_version": "1.5.0",
          "state": {
            "_dom_classes": [],
            "_model_module": "@jupyter-widgets/controls",
            "_model_module_version": "1.5.0",
            "_model_name": "HBoxModel",
            "_view_count": null,
            "_view_module": "@jupyter-widgets/controls",
            "_view_module_version": "1.5.0",
            "_view_name": "HBoxView",
            "box_style": "",
            "children": [
              "IPY_MODEL_3b0ea44b006a4684b33da2420ddd54e4",
              "IPY_MODEL_0a4c326422ce415caa8d3d13b091745c",
              "IPY_MODEL_f0a349176f6341a3aa6b0886c36d5656"
            ],
            "layout": "IPY_MODEL_616adabf15d04b07b407abda20941be4"
          }
        },
        "3b0ea44b006a4684b33da2420ddd54e4": {
          "model_module": "@jupyter-widgets/controls",
          "model_name": "HTMLModel",
          "model_module_version": "1.5.0",
          "state": {
            "_dom_classes": [],
            "_model_module": "@jupyter-widgets/controls",
            "_model_module_version": "1.5.0",
            "_model_name": "HTMLModel",
            "_view_count": null,
            "_view_module": "@jupyter-widgets/controls",
            "_view_module_version": "1.5.0",
            "_view_name": "HTMLView",
            "description": "",
            "description_tooltip": null,
            "layout": "IPY_MODEL_d0668bca926e4f37b606ab21ecd00486",
            "placeholder": "​",
            "style": "IPY_MODEL_e33e17b93ad3455086c95a5c3451bc50",
            "value": "Downloading (…)lve/main/config.json: 100%"
          }
        },
        "0a4c326422ce415caa8d3d13b091745c": {
          "model_module": "@jupyter-widgets/controls",
          "model_name": "FloatProgressModel",
          "model_module_version": "1.5.0",
          "state": {
            "_dom_classes": [],
            "_model_module": "@jupyter-widgets/controls",
            "_model_module_version": "1.5.0",
            "_model_name": "FloatProgressModel",
            "_view_count": null,
            "_view_module": "@jupyter-widgets/controls",
            "_view_module_version": "1.5.0",
            "_view_name": "ProgressView",
            "bar_style": "success",
            "description": "",
            "description_tooltip": null,
            "layout": "IPY_MODEL_6c0174d92b6248d2b3d7a62c65bdfabc",
            "max": 665,
            "min": 0,
            "orientation": "horizontal",
            "style": "IPY_MODEL_6b68992f2e4842e697bf86cbace38e1f",
            "value": 665
          }
        },
        "f0a349176f6341a3aa6b0886c36d5656": {
          "model_module": "@jupyter-widgets/controls",
          "model_name": "HTMLModel",
          "model_module_version": "1.5.0",
          "state": {
            "_dom_classes": [],
            "_model_module": "@jupyter-widgets/controls",
            "_model_module_version": "1.5.0",
            "_model_name": "HTMLModel",
            "_view_count": null,
            "_view_module": "@jupyter-widgets/controls",
            "_view_module_version": "1.5.0",
            "_view_name": "HTMLView",
            "description": "",
            "description_tooltip": null,
            "layout": "IPY_MODEL_2b138071db304ed7970bb323e4903ae3",
            "placeholder": "​",
            "style": "IPY_MODEL_6f49203606f34352b3ff9e54afba536b",
            "value": " 665/665 [00:00&lt;00:00, 38.6kB/s]"
          }
        },
        "616adabf15d04b07b407abda20941be4": {
          "model_module": "@jupyter-widgets/base",
          "model_name": "LayoutModel",
          "model_module_version": "1.2.0",
          "state": {
            "_model_module": "@jupyter-widgets/base",
            "_model_module_version": "1.2.0",
            "_model_name": "LayoutModel",
            "_view_count": null,
            "_view_module": "@jupyter-widgets/base",
            "_view_module_version": "1.2.0",
            "_view_name": "LayoutView",
            "align_content": null,
            "align_items": null,
            "align_self": null,
            "border": null,
            "bottom": null,
            "display": null,
            "flex": null,
            "flex_flow": null,
            "grid_area": null,
            "grid_auto_columns": null,
            "grid_auto_flow": null,
            "grid_auto_rows": null,
            "grid_column": null,
            "grid_gap": null,
            "grid_row": null,
            "grid_template_areas": null,
            "grid_template_columns": null,
            "grid_template_rows": null,
            "height": null,
            "justify_content": null,
            "justify_items": null,
            "left": null,
            "margin": null,
            "max_height": null,
            "max_width": null,
            "min_height": null,
            "min_width": null,
            "object_fit": null,
            "object_position": null,
            "order": null,
            "overflow": null,
            "overflow_x": null,
            "overflow_y": null,
            "padding": null,
            "right": null,
            "top": null,
            "visibility": null,
            "width": null
          }
        },
        "d0668bca926e4f37b606ab21ecd00486": {
          "model_module": "@jupyter-widgets/base",
          "model_name": "LayoutModel",
          "model_module_version": "1.2.0",
          "state": {
            "_model_module": "@jupyter-widgets/base",
            "_model_module_version": "1.2.0",
            "_model_name": "LayoutModel",
            "_view_count": null,
            "_view_module": "@jupyter-widgets/base",
            "_view_module_version": "1.2.0",
            "_view_name": "LayoutView",
            "align_content": null,
            "align_items": null,
            "align_self": null,
            "border": null,
            "bottom": null,
            "display": null,
            "flex": null,
            "flex_flow": null,
            "grid_area": null,
            "grid_auto_columns": null,
            "grid_auto_flow": null,
            "grid_auto_rows": null,
            "grid_column": null,
            "grid_gap": null,
            "grid_row": null,
            "grid_template_areas": null,
            "grid_template_columns": null,
            "grid_template_rows": null,
            "height": null,
            "justify_content": null,
            "justify_items": null,
            "left": null,
            "margin": null,
            "max_height": null,
            "max_width": null,
            "min_height": null,
            "min_width": null,
            "object_fit": null,
            "object_position": null,
            "order": null,
            "overflow": null,
            "overflow_x": null,
            "overflow_y": null,
            "padding": null,
            "right": null,
            "top": null,
            "visibility": null,
            "width": null
          }
        },
        "e33e17b93ad3455086c95a5c3451bc50": {
          "model_module": "@jupyter-widgets/controls",
          "model_name": "DescriptionStyleModel",
          "model_module_version": "1.5.0",
          "state": {
            "_model_module": "@jupyter-widgets/controls",
            "_model_module_version": "1.5.0",
            "_model_name": "DescriptionStyleModel",
            "_view_count": null,
            "_view_module": "@jupyter-widgets/base",
            "_view_module_version": "1.2.0",
            "_view_name": "StyleView",
            "description_width": ""
          }
        },
        "6c0174d92b6248d2b3d7a62c65bdfabc": {
          "model_module": "@jupyter-widgets/base",
          "model_name": "LayoutModel",
          "model_module_version": "1.2.0",
          "state": {
            "_model_module": "@jupyter-widgets/base",
            "_model_module_version": "1.2.0",
            "_model_name": "LayoutModel",
            "_view_count": null,
            "_view_module": "@jupyter-widgets/base",
            "_view_module_version": "1.2.0",
            "_view_name": "LayoutView",
            "align_content": null,
            "align_items": null,
            "align_self": null,
            "border": null,
            "bottom": null,
            "display": null,
            "flex": null,
            "flex_flow": null,
            "grid_area": null,
            "grid_auto_columns": null,
            "grid_auto_flow": null,
            "grid_auto_rows": null,
            "grid_column": null,
            "grid_gap": null,
            "grid_row": null,
            "grid_template_areas": null,
            "grid_template_columns": null,
            "grid_template_rows": null,
            "height": null,
            "justify_content": null,
            "justify_items": null,
            "left": null,
            "margin": null,
            "max_height": null,
            "max_width": null,
            "min_height": null,
            "min_width": null,
            "object_fit": null,
            "object_position": null,
            "order": null,
            "overflow": null,
            "overflow_x": null,
            "overflow_y": null,
            "padding": null,
            "right": null,
            "top": null,
            "visibility": null,
            "width": null
          }
        },
        "6b68992f2e4842e697bf86cbace38e1f": {
          "model_module": "@jupyter-widgets/controls",
          "model_name": "ProgressStyleModel",
          "model_module_version": "1.5.0",
          "state": {
            "_model_module": "@jupyter-widgets/controls",
            "_model_module_version": "1.5.0",
            "_model_name": "ProgressStyleModel",
            "_view_count": null,
            "_view_module": "@jupyter-widgets/base",
            "_view_module_version": "1.2.0",
            "_view_name": "StyleView",
            "bar_color": null,
            "description_width": ""
          }
        },
        "2b138071db304ed7970bb323e4903ae3": {
          "model_module": "@jupyter-widgets/base",
          "model_name": "LayoutModel",
          "model_module_version": "1.2.0",
          "state": {
            "_model_module": "@jupyter-widgets/base",
            "_model_module_version": "1.2.0",
            "_model_name": "LayoutModel",
            "_view_count": null,
            "_view_module": "@jupyter-widgets/base",
            "_view_module_version": "1.2.0",
            "_view_name": "LayoutView",
            "align_content": null,
            "align_items": null,
            "align_self": null,
            "border": null,
            "bottom": null,
            "display": null,
            "flex": null,
            "flex_flow": null,
            "grid_area": null,
            "grid_auto_columns": null,
            "grid_auto_flow": null,
            "grid_auto_rows": null,
            "grid_column": null,
            "grid_gap": null,
            "grid_row": null,
            "grid_template_areas": null,
            "grid_template_columns": null,
            "grid_template_rows": null,
            "height": null,
            "justify_content": null,
            "justify_items": null,
            "left": null,
            "margin": null,
            "max_height": null,
            "max_width": null,
            "min_height": null,
            "min_width": null,
            "object_fit": null,
            "object_position": null,
            "order": null,
            "overflow": null,
            "overflow_x": null,
            "overflow_y": null,
            "padding": null,
            "right": null,
            "top": null,
            "visibility": null,
            "width": null
          }
        },
        "6f49203606f34352b3ff9e54afba536b": {
          "model_module": "@jupyter-widgets/controls",
          "model_name": "DescriptionStyleModel",
          "model_module_version": "1.5.0",
          "state": {
            "_model_module": "@jupyter-widgets/controls",
            "_model_module_version": "1.5.0",
            "_model_name": "DescriptionStyleModel",
            "_view_count": null,
            "_view_module": "@jupyter-widgets/base",
            "_view_module_version": "1.2.0",
            "_view_name": "StyleView",
            "description_width": ""
          }
        },
        "9105a3f86e1d418f940552f82734ceec": {
          "model_module": "@jupyter-widgets/controls",
          "model_name": "HBoxModel",
          "model_module_version": "1.5.0",
          "state": {
            "_dom_classes": [],
            "_model_module": "@jupyter-widgets/controls",
            "_model_module_version": "1.5.0",
            "_model_name": "HBoxModel",
            "_view_count": null,
            "_view_module": "@jupyter-widgets/controls",
            "_view_module_version": "1.5.0",
            "_view_name": "HBoxView",
            "box_style": "",
            "children": [
              "IPY_MODEL_2477c9df305f4ec0a87f7627d980fa08",
              "IPY_MODEL_d8dda05593e34db0a98128125f074e63",
              "IPY_MODEL_482786cc0f2843d7b30e085a9c78656e"
            ],
            "layout": "IPY_MODEL_89f0ffc53d4a44e69916c406ecd41cc7"
          }
        },
        "2477c9df305f4ec0a87f7627d980fa08": {
          "model_module": "@jupyter-widgets/controls",
          "model_name": "HTMLModel",
          "model_module_version": "1.5.0",
          "state": {
            "_dom_classes": [],
            "_model_module": "@jupyter-widgets/controls",
            "_model_module_version": "1.5.0",
            "_model_name": "HTMLModel",
            "_view_count": null,
            "_view_module": "@jupyter-widgets/controls",
            "_view_module_version": "1.5.0",
            "_view_name": "HTMLView",
            "description": "",
            "description_tooltip": null,
            "layout": "IPY_MODEL_0a3bf5ba956a4894b622fd59042c7649",
            "placeholder": "​",
            "style": "IPY_MODEL_6ac893b9b2ef4b6ab846aca3dccf3424",
            "value": "Downloading model.safetensors: 100%"
          }
        },
        "d8dda05593e34db0a98128125f074e63": {
          "model_module": "@jupyter-widgets/controls",
          "model_name": "FloatProgressModel",
          "model_module_version": "1.5.0",
          "state": {
            "_dom_classes": [],
            "_model_module": "@jupyter-widgets/controls",
            "_model_module_version": "1.5.0",
            "_model_name": "FloatProgressModel",
            "_view_count": null,
            "_view_module": "@jupyter-widgets/controls",
            "_view_module_version": "1.5.0",
            "_view_name": "ProgressView",
            "bar_style": "success",
            "description": "",
            "description_tooltip": null,
            "layout": "IPY_MODEL_62edf635c4604dff8ee8a9b661213716",
            "max": 548105171,
            "min": 0,
            "orientation": "horizontal",
            "style": "IPY_MODEL_8b06dcd168c141da81d117692cc7867f",
            "value": 548105171
          }
        },
        "482786cc0f2843d7b30e085a9c78656e": {
          "model_module": "@jupyter-widgets/controls",
          "model_name": "HTMLModel",
          "model_module_version": "1.5.0",
          "state": {
            "_dom_classes": [],
            "_model_module": "@jupyter-widgets/controls",
            "_model_module_version": "1.5.0",
            "_model_name": "HTMLModel",
            "_view_count": null,
            "_view_module": "@jupyter-widgets/controls",
            "_view_module_version": "1.5.0",
            "_view_name": "HTMLView",
            "description": "",
            "description_tooltip": null,
            "layout": "IPY_MODEL_d6dd7c82f9694312ad4a34301ae75a6c",
            "placeholder": "​",
            "style": "IPY_MODEL_a5ceb4e66c154585a98cf1315ff7e065",
            "value": " 548M/548M [00:07&lt;00:00, 98.4MB/s]"
          }
        },
        "89f0ffc53d4a44e69916c406ecd41cc7": {
          "model_module": "@jupyter-widgets/base",
          "model_name": "LayoutModel",
          "model_module_version": "1.2.0",
          "state": {
            "_model_module": "@jupyter-widgets/base",
            "_model_module_version": "1.2.0",
            "_model_name": "LayoutModel",
            "_view_count": null,
            "_view_module": "@jupyter-widgets/base",
            "_view_module_version": "1.2.0",
            "_view_name": "LayoutView",
            "align_content": null,
            "align_items": null,
            "align_self": null,
            "border": null,
            "bottom": null,
            "display": null,
            "flex": null,
            "flex_flow": null,
            "grid_area": null,
            "grid_auto_columns": null,
            "grid_auto_flow": null,
            "grid_auto_rows": null,
            "grid_column": null,
            "grid_gap": null,
            "grid_row": null,
            "grid_template_areas": null,
            "grid_template_columns": null,
            "grid_template_rows": null,
            "height": null,
            "justify_content": null,
            "justify_items": null,
            "left": null,
            "margin": null,
            "max_height": null,
            "max_width": null,
            "min_height": null,
            "min_width": null,
            "object_fit": null,
            "object_position": null,
            "order": null,
            "overflow": null,
            "overflow_x": null,
            "overflow_y": null,
            "padding": null,
            "right": null,
            "top": null,
            "visibility": null,
            "width": null
          }
        },
        "0a3bf5ba956a4894b622fd59042c7649": {
          "model_module": "@jupyter-widgets/base",
          "model_name": "LayoutModel",
          "model_module_version": "1.2.0",
          "state": {
            "_model_module": "@jupyter-widgets/base",
            "_model_module_version": "1.2.0",
            "_model_name": "LayoutModel",
            "_view_count": null,
            "_view_module": "@jupyter-widgets/base",
            "_view_module_version": "1.2.0",
            "_view_name": "LayoutView",
            "align_content": null,
            "align_items": null,
            "align_self": null,
            "border": null,
            "bottom": null,
            "display": null,
            "flex": null,
            "flex_flow": null,
            "grid_area": null,
            "grid_auto_columns": null,
            "grid_auto_flow": null,
            "grid_auto_rows": null,
            "grid_column": null,
            "grid_gap": null,
            "grid_row": null,
            "grid_template_areas": null,
            "grid_template_columns": null,
            "grid_template_rows": null,
            "height": null,
            "justify_content": null,
            "justify_items": null,
            "left": null,
            "margin": null,
            "max_height": null,
            "max_width": null,
            "min_height": null,
            "min_width": null,
            "object_fit": null,
            "object_position": null,
            "order": null,
            "overflow": null,
            "overflow_x": null,
            "overflow_y": null,
            "padding": null,
            "right": null,
            "top": null,
            "visibility": null,
            "width": null
          }
        },
        "6ac893b9b2ef4b6ab846aca3dccf3424": {
          "model_module": "@jupyter-widgets/controls",
          "model_name": "DescriptionStyleModel",
          "model_module_version": "1.5.0",
          "state": {
            "_model_module": "@jupyter-widgets/controls",
            "_model_module_version": "1.5.0",
            "_model_name": "DescriptionStyleModel",
            "_view_count": null,
            "_view_module": "@jupyter-widgets/base",
            "_view_module_version": "1.2.0",
            "_view_name": "StyleView",
            "description_width": ""
          }
        },
        "62edf635c4604dff8ee8a9b661213716": {
          "model_module": "@jupyter-widgets/base",
          "model_name": "LayoutModel",
          "model_module_version": "1.2.0",
          "state": {
            "_model_module": "@jupyter-widgets/base",
            "_model_module_version": "1.2.0",
            "_model_name": "LayoutModel",
            "_view_count": null,
            "_view_module": "@jupyter-widgets/base",
            "_view_module_version": "1.2.0",
            "_view_name": "LayoutView",
            "align_content": null,
            "align_items": null,
            "align_self": null,
            "border": null,
            "bottom": null,
            "display": null,
            "flex": null,
            "flex_flow": null,
            "grid_area": null,
            "grid_auto_columns": null,
            "grid_auto_flow": null,
            "grid_auto_rows": null,
            "grid_column": null,
            "grid_gap": null,
            "grid_row": null,
            "grid_template_areas": null,
            "grid_template_columns": null,
            "grid_template_rows": null,
            "height": null,
            "justify_content": null,
            "justify_items": null,
            "left": null,
            "margin": null,
            "max_height": null,
            "max_width": null,
            "min_height": null,
            "min_width": null,
            "object_fit": null,
            "object_position": null,
            "order": null,
            "overflow": null,
            "overflow_x": null,
            "overflow_y": null,
            "padding": null,
            "right": null,
            "top": null,
            "visibility": null,
            "width": null
          }
        },
        "8b06dcd168c141da81d117692cc7867f": {
          "model_module": "@jupyter-widgets/controls",
          "model_name": "ProgressStyleModel",
          "model_module_version": "1.5.0",
          "state": {
            "_model_module": "@jupyter-widgets/controls",
            "_model_module_version": "1.5.0",
            "_model_name": "ProgressStyleModel",
            "_view_count": null,
            "_view_module": "@jupyter-widgets/base",
            "_view_module_version": "1.2.0",
            "_view_name": "StyleView",
            "bar_color": null,
            "description_width": ""
          }
        },
        "d6dd7c82f9694312ad4a34301ae75a6c": {
          "model_module": "@jupyter-widgets/base",
          "model_name": "LayoutModel",
          "model_module_version": "1.2.0",
          "state": {
            "_model_module": "@jupyter-widgets/base",
            "_model_module_version": "1.2.0",
            "_model_name": "LayoutModel",
            "_view_count": null,
            "_view_module": "@jupyter-widgets/base",
            "_view_module_version": "1.2.0",
            "_view_name": "LayoutView",
            "align_content": null,
            "align_items": null,
            "align_self": null,
            "border": null,
            "bottom": null,
            "display": null,
            "flex": null,
            "flex_flow": null,
            "grid_area": null,
            "grid_auto_columns": null,
            "grid_auto_flow": null,
            "grid_auto_rows": null,
            "grid_column": null,
            "grid_gap": null,
            "grid_row": null,
            "grid_template_areas": null,
            "grid_template_columns": null,
            "grid_template_rows": null,
            "height": null,
            "justify_content": null,
            "justify_items": null,
            "left": null,
            "margin": null,
            "max_height": null,
            "max_width": null,
            "min_height": null,
            "min_width": null,
            "object_fit": null,
            "object_position": null,
            "order": null,
            "overflow": null,
            "overflow_x": null,
            "overflow_y": null,
            "padding": null,
            "right": null,
            "top": null,
            "visibility": null,
            "width": null
          }
        },
        "a5ceb4e66c154585a98cf1315ff7e065": {
          "model_module": "@jupyter-widgets/controls",
          "model_name": "DescriptionStyleModel",
          "model_module_version": "1.5.0",
          "state": {
            "_model_module": "@jupyter-widgets/controls",
            "_model_module_version": "1.5.0",
            "_model_name": "DescriptionStyleModel",
            "_view_count": null,
            "_view_module": "@jupyter-widgets/base",
            "_view_module_version": "1.2.0",
            "_view_name": "StyleView",
            "description_width": ""
          }
        }
      }
    }
  },
  "nbformat": 4,
  "nbformat_minor": 0
}